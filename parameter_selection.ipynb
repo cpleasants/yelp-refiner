{
 "cells": [
  {
   "cell_type": "markdown",
   "metadata": {},
   "source": [
    "## Imports"
   ]
  },
  {
   "cell_type": "code",
   "execution_count": 2,
   "metadata": {
    "collapsed": false
   },
   "outputs": [],
   "source": [
    "import pandas as pd\n",
    "import numpy as np\n",
    "import matplotlib.pyplot as plt\n",
    "import seaborn as sns\n",
    "%matplotlib inline\n",
    "from scipy.stats import hmean\n",
    "from multiprocessing import Pool\n",
    "\n",
    "import tokenizers as t\n",
    "import lda_implementation"
   ]
  },
  {
   "cell_type": "code",
   "execution_count": 3,
   "metadata": {
    "collapsed": false
   },
   "outputs": [],
   "source": [
    "# read in data\n",
    "filtered_10K = pd.read_csv('datasets/10K_filtered_restaurant_reviews.csv', encoding='utf-8')\n",
    "coded = pd.read_excel('datasets/manually_coded_reviews.xlsx', encoding='utf-8')\n",
    "coded.fillna(0, inplace=True)\n",
    "\n",
    "# Clean\n",
    "coded['serv'] = (coded.service + coded.staff).apply(lambda x: 1 if x > 0 else 0)\n",
    "coded['pos_serv'] = (coded.pos_service + coded.pos_staff).apply(lambda x: 1 if x > 0 else 0)\n",
    "coded['neg_serv'] = (coded.neg_service + coded.neg_staff).apply(lambda x: 1 if x > 0 else 0)\n",
    "coded.drop(['service', 'staff', 'pos_service', 'pos_staff', 'neg_service', 'neg_staff'], axis=1, inplace=True)\n",
    "coded.drop(['ambiance', 'cleanliness', 'pos_amb', u'neg_amb', 'pos_clean', 'neg_clean'], axis=1, inplace=True)"
   ]
  },
  {
   "cell_type": "markdown",
   "metadata": {},
   "source": [
    "## Test a few different N-Topics, Alphas, and Betas\n",
    "find ranges to do a more targeted grid-search on"
   ]
  },
  {
   "cell_type": "code",
   "execution_count": 3,
   "metadata": {
    "collapsed": false,
    "scrolled": true
   },
   "outputs": [],
   "source": [
    "n_topicss = [10,  50,   75, 20,   20,  20,  20,  20,    20,   20, 20]\n",
    "alphas =    [.1,  .1,   .1, .001, .01, 1,   10,  .1,    .1,   .1, .1]\n",
    "etas =      [.01, .01, .01, .01,  .01, .01, .01, .0001, .001, .1, 1 ]\n",
    "tests = zip(n_topicss, alphas, etas)\n",
    "\n",
    "count_vec, rev_vec, rev_badlines = t.fitApplyVectorizer(filtered_10K.text,\n",
    "                                     t.foodwordPolarityTokenizer)\n",
    "reviews = filtered_10K.copy()\n",
    "reviews = reviews[reviews.text.apply(lambda x: False if x in rev_badlines else True)]\n",
    "\n",
    "code_vec, code_badlines = t.applyVectorizer(coded.text, t.foodwordPolarityTokenizer, count_vec)\n",
    "code_rev = coded.copy()\n",
    "code_rev = code_rev[code_rev.text.apply(lambda x: False if x in code_badlines else True)]\n",
    "\n",
    "def testParams((n_topics, alpha, eta)):\n",
    "    imp = lda_implementation.compareToManualNoPrint(reviews.text, rev_vec, code_rev, code_vec,\n",
    "                                             n_topics=n_topics, alpha=alpha, eta=eta)\n",
    "    return ('n_topics: {}, alpha: {}, eta: {}'.format(str(n_topics), str(alpha), str(eta)), imp)"
   ]
  },
  {
   "cell_type": "code",
   "execution_count": 4,
   "metadata": {
    "collapsed": false
   },
   "outputs": [
    {
     "name": "stderr",
     "output_type": "stream",
     "text": [
      "INFO:lda:n_documents: 9689\n",
      "INFO:lda:n_documents: 9689\n",
      "INFO:lda:n_documents: 9689\n",
      "INFO:lda:vocab_size: 19491\n",
      "INFO:lda:n_documents: 9689\n",
      "INFO:lda:n_words: 616730\n",
      "INFO:lda:vocab_size: 19491\n",
      "INFO:lda:n_topics: 50\n",
      "INFO:lda:vocab_size: 19491\n",
      "INFO:lda:vocab_size: 19491\n",
      "INFO:lda:n_iter: 2000\n",
      "INFO:lda:n_words: 616730\n",
      "INFO:lda:n_topics: 10\n",
      "INFO:lda:n_words: 616730\n",
      "INFO:lda:n_topics: 75\n",
      "INFO:lda:n_words: 616730\n",
      "WARNING:lda:all zero row in document-term matrix found\n",
      "INFO:lda:n_iter: 2000\n",
      "INFO:lda:n_iter: 2000\n",
      "WARNING:lda:all zero row in document-term matrix found\n",
      "INFO:lda:n_topics: 20\n",
      "WARNING:lda:all zero row in document-term matrix found\n",
      "INFO:lda:n_iter: 2000\n",
      "WARNING:lda:all zero row in document-term matrix found\n",
      "INFO:lda:<0> log likelihood: -5669204\n",
      "INFO:lda:<0> log likelihood: -7070915\n",
      "INFO:lda:<0> log likelihood: -7597607\n",
      "INFO:lda:<0> log likelihood: -7219311\n",
      "INFO:lda:<1000> log likelihood: -4327697\n",
      "INFO:lda:<1000> log likelihood: -4250552\n",
      "INFO:lda:<1999> log likelihood: -4324852\n",
      "WARNING:lda:all zero column in document-term matrix found\n"
     ]
    },
    {
     "name": "stdout",
     "output_type": "stream",
     "text": [
      "pos_food [('topic_7', 'topic_8'), 0.73015873015873023]\n",
      "neg_food ['topic_5', 0.84454470877768661]\n",
      "pos_wait [('topic_3', 'topic_7'), 0.75317875841436055]\n",
      "neg_wait ['topic_2', 0.79459459459459458]\n",
      "pos_price [('topic_1', 'topic_7'), 0.69066666666666665]\n",
      "neg_price [('topic_1', 'topic_5'), 0.84844444444444445]\n",
      "pos_serv [('topic_7', 'topic_8'), 0.73920032147880255]\n",
      "neg_serv ['topic_2', 0.86525877453896494]\n",
      "Done with n=10, b=0.1, c=0.01\n"
     ]
    },
    {
     "name": "stderr",
     "output_type": "stream",
     "text": [
      "INFO:lda:n_documents: 9689\n",
      "INFO:lda:vocab_size: 19491\n",
      "INFO:lda:n_words: 616730\n",
      "INFO:lda:n_topics: 20\n",
      "INFO:lda:n_iter: 2000\n",
      "WARNING:lda:all zero row in document-term matrix found\n",
      "INFO:lda:<0> log likelihood: -6673795\n",
      "INFO:lda:<1999> log likelihood: -4224183\n",
      "WARNING:lda:all zero column in document-term matrix found\n"
     ]
    },
    {
     "name": "stdout",
     "output_type": "stream",
     "text": [
      "pos_food [('topic_7', 'topic_11'), 0.80359788359788364]\n",
      "neg_food ['topic_13', 0.84686901832102812]\n",
      "pos_wait ['topic_9', 0.7808526551982049]\n",
      "neg_wait [('topic_6', 'topic_12'), 0.80270270270270272]\n",
      "pos_price ['topic_9', 0.71666666666666667]\n",
      "neg_price [('topic_4', 'topic_13'), 0.81488888888888888]\n",
      "pos_serv [('topic_0', 'topic_15'), 0.68665862969660441]\n",
      "neg_serv [('topic_6', 'topic_12'), 0.85797144556811422]\n",
      "Done with n=20, b=0.001, c=0.01\n"
     ]
    },
    {
     "name": "stderr",
     "output_type": "stream",
     "text": [
      "INFO:lda:n_documents: 9689\n",
      "INFO:lda:vocab_size: 19491\n",
      "INFO:lda:n_words: 616730\n",
      "INFO:lda:n_topics: 20\n",
      "INFO:lda:n_iter: 2000\n",
      "WARNING:lda:all zero row in document-term matrix found\n",
      "INFO:lda:<0> log likelihood: -6067374\n",
      "INFO:lda:<1000> log likelihood: -4289222\n",
      "INFO:lda:<1000> log likelihood: -4569624\n",
      "INFO:lda:<1000> log likelihood: -4484293\n",
      "INFO:lda:<1999> log likelihood: -4276647\n",
      "WARNING:lda:all zero column in document-term matrix found\n"
     ]
    },
    {
     "name": "stdout",
     "output_type": "stream",
     "text": [
      "pos_food [('topic_1', 'topic_10'), 0.73089947089947094]\n",
      "neg_food ['topic_7', 0.83415367787804218]\n",
      "pos_wait [('topic_0', 'topic_10'), 0.76215407629020193]\n",
      "neg_wait ['topic_6', 0.79027027027027019]\n",
      "pos_price [('topic_4', 'topic_13'), 0.73955555555555552]\n",
      "neg_price [('topic_7', 'topic_13'), 0.86844444444444446]\n",
      "pos_serv [('topic_10', 'topic_17'), 0.74422342776773154]\n",
      "neg_serv ['topic_6', 0.87061273051754917]\n",
      "Done with n=20, b=0.01, c=0.01\n"
     ]
    },
    {
     "name": "stderr",
     "output_type": "stream",
     "text": [
      "INFO:lda:n_documents: 9689\n",
      "INFO:lda:vocab_size: 19491\n",
      "INFO:lda:n_words: 616730\n",
      "INFO:lda:n_topics: 20\n",
      "INFO:lda:n_iter: 2000\n",
      "WARNING:lda:all zero row in document-term matrix found\n",
      "INFO:lda:<0> log likelihood: -5970800\n",
      "INFO:lda:<1000> log likelihood: -4654142\n",
      "INFO:lda:<1999> log likelihood: -4479748\n",
      "WARNING:lda:all zero column in document-term matrix found\n"
     ]
    },
    {
     "name": "stdout",
     "output_type": "stream",
     "text": [
      "pos_food [('topic_2', 'topic_3'), 0.7659259259259259]\n",
      "neg_food ['topic_7', 0.80065627563576702]\n",
      "pos_wait [('topic_3', 'topic_13'), 0.74794315632011965]\n",
      "neg_wait [('topic_2', 'topic_5'), 0.83540540540540542]\n",
      "pos_price ['topic_13', 0.70977777777777784]\n",
      "neg_price [('topic_4', 'topic_7'), 0.81111111111111112]\n",
      "pos_serv ['topic_3', 0.77054450472171976]\n",
      "neg_serv [('topic_5', 'topic_7'), 0.8645151695419393]\n",
      "Done with n=20, b=1, c=0.01\n"
     ]
    },
    {
     "name": "stderr",
     "output_type": "stream",
     "text": [
      "INFO:lda:n_documents: 9689\n",
      "INFO:lda:vocab_size: 19491\n",
      "INFO:lda:n_words: 616730\n",
      "INFO:lda:n_topics: 20\n",
      "INFO:lda:n_iter: 2000\n",
      "WARNING:lda:all zero row in document-term matrix found\n",
      "INFO:lda:<0> log likelihood: -6695097\n",
      "INFO:lda:<1000> log likelihood: -4304792\n",
      "INFO:lda:<1999> log likelihood: -4564949\n",
      "WARNING:lda:all zero column in document-term matrix found\n"
     ]
    },
    {
     "name": "stdout",
     "output_type": "stream",
     "text": [
      "pos_food [('topic_0', 'topic_4'), 0.75195767195767194]\n",
      "neg_food [('topic_26', 'topic_45'), 0.85097074104457204]\n",
      "pos_wait [('topic_10', 'topic_44'), 0.82572924457741204]\n",
      "neg_wait [('topic_12', 'topic_25'), 0.80486486486486486]\n",
      "pos_price [('topic_7', 'topic_44'), 0.80333333333333334]\n",
      "neg_price [('topic_26', 'topic_49'), 0.87755555555555553]\n",
      "pos_serv [('topic_7', 'topic_10'), 0.77446252762708467]\n",
      "neg_serv [('topic_12', 'topic_37'), 0.83105294467578816]\n",
      "Done with n=50, b=0.1, c=0.01\n"
     ]
    },
    {
     "name": "stderr",
     "output_type": "stream",
     "text": [
      "INFO:lda:n_documents: 9689\n",
      "INFO:lda:vocab_size: 19491\n",
      "INFO:lda:n_words: 616730\n",
      "INFO:lda:n_topics: 20\n",
      "INFO:lda:n_iter: 2000\n",
      "WARNING:lda:all zero row in document-term matrix found\n",
      "INFO:lda:<0> log likelihood: -6494768\n",
      "INFO:lda:<1000> log likelihood: -4576058\n",
      "INFO:lda:<1999> log likelihood: -4295323\n",
      "WARNING:lda:all zero column in document-term matrix found\n"
     ]
    },
    {
     "name": "stdout",
     "output_type": "stream",
     "text": [
      "pos_food [('topic_0', 'topic_19'), 0.7857142857142857]\n",
      "neg_food [('topic_13', 'topic_17'), 0.76715887339349198]\n",
      "pos_wait [('topic_16', 'topic_19'), 0.77075542258788332]\n",
      "neg_wait [('topic_5', 'topic_13'), 0.76621621621621627]\n",
      "pos_price ['topic_16', 0.76866666666666672]\n",
      "neg_price [('topic_13', 'topic_16'), 0.70999999999999996]\n",
      "pos_serv [('topic_11', 'topic_19'), 0.71930882057464329]\n",
      "neg_serv [('topic_5', 'topic_13'), 0.85975609756097571]\n",
      "Done with n=20, b=10, c=0.01\n"
     ]
    },
    {
     "name": "stderr",
     "output_type": "stream",
     "text": [
      "INFO:lda:n_documents: 9689\n",
      "INFO:lda:vocab_size: 19491\n",
      "INFO:lda:n_words: 616730\n",
      "INFO:lda:n_topics: 20\n",
      "INFO:lda:n_iter: 2000\n",
      "WARNING:lda:all zero row in document-term matrix found\n",
      "INFO:lda:<0> log likelihood: -6225326\n",
      "INFO:lda:<1000> log likelihood: -4469440\n",
      "INFO:lda:<1999> log likelihood: -4545494\n",
      "WARNING:lda:all zero column in document-term matrix found\n"
     ]
    },
    {
     "name": "stdout",
     "output_type": "stream",
     "text": [
      "pos_food [('topic_0', 'topic_11'), 0.74708994708994714]\n",
      "neg_food [('topic_5', 'topic_18'), 0.77153404429860539]\n",
      "pos_wait [('topic_5', 'topic_11'), 0.81039640987284967]\n",
      "neg_wait [('topic_10', 'topic_15'), 0.8002702702702702]\n",
      "pos_price [('topic_11', 'topic_19'), 0.69022222222222229]\n",
      "neg_price [('topic_8', 'topic_18'), 0.77177777777777778]\n",
      "pos_serv [('topic_0', 'topic_11'), 0.71338155515370705]\n",
      "neg_serv ['topic_15', 0.82436049970255798]\n",
      "Done with n=20, b=0.1, c=0.0001\n"
     ]
    },
    {
     "name": "stderr",
     "output_type": "stream",
     "text": [
      "INFO:lda:n_documents: 9689\n",
      "INFO:lda:vocab_size: 19491\n",
      "INFO:lda:n_words: 616730\n",
      "INFO:lda:n_topics: 20\n",
      "INFO:lda:n_iter: 2000\n",
      "WARNING:lda:all zero row in document-term matrix found\n",
      "INFO:lda:<0> log likelihood: -6489844\n",
      "INFO:lda:<1000> log likelihood: -4460847\n",
      "INFO:lda:<1999> log likelihood: -4446752\n",
      "WARNING:lda:all zero column in document-term matrix found\n"
     ]
    },
    {
     "name": "stdout",
     "output_type": "stream",
     "text": [
      "pos_food [('topic_3', 'topic_9'), 0.72042328042328052]\n",
      "neg_food [('topic_5', 'topic_13'), 0.85233798195242005]\n",
      "pos_wait [('topic_2', 'topic_9'), 0.78347045624532541]\n",
      "neg_wait ['topic_15', 0.84351351351351345]\n",
      "pos_price [('topic_7', 'topic_9'), 0.72999999999999998]\n",
      "neg_price [('topic_7', 'topic_13'), 0.84911111111111104]\n",
      "pos_serv [('topic_9', 'topic_17'), 0.71046815350612824]\n",
      "neg_serv ['topic_15', 0.84250446162998216]\n",
      "Done with n=20, b=0.1, c=0.001\n"
     ]
    },
    {
     "name": "stderr",
     "output_type": "stream",
     "text": [
      "INFO:lda:<1000> log likelihood: -4113494\n",
      "INFO:lda:<1999> log likelihood: -4450745\n",
      "WARNING:lda:all zero column in document-term matrix found\n"
     ]
    },
    {
     "name": "stdout",
     "output_type": "stream",
     "text": [
      "pos_food [('topic_1', 'topic_15'), 0.7484656084656085]\n",
      "neg_food ['topic_2', 0.85110746513535684]\n",
      "pos_wait [('topic_0', 'topic_15'), 0.77262528047868362]\n",
      "neg_wait [('topic_10', 'topic_11'), 0.82162162162162156]\n",
      "pos_price [('topic_15', 'topic_19'), 0.76777777777777778]\n",
      "neg_price [('topic_2', 'topic_19'), 0.83999999999999986]\n",
      "pos_serv [('topic_9', 'topic_15'), 0.76270845891099048]\n",
      "neg_serv [('topic_2', 'topic_10'), 0.84994051160023798]\n",
      "Done with n=20, b=0.1, c=0.1\n"
     ]
    },
    {
     "name": "stderr",
     "output_type": "stream",
     "text": [
      "INFO:lda:<1999> log likelihood: -4648499\n",
      "WARNING:lda:all zero column in document-term matrix found\n"
     ]
    },
    {
     "name": "stdout",
     "output_type": "stream",
     "text": [
      "pos_food [('topic_57', 'topic_74'), 0.74888888888888894]\n",
      "neg_food [('topic_0', 'topic_68'), 0.81501230516817069]\n",
      "pos_wait [('topic_6', 'topic_53'), 0.83507853403141352]\n",
      "neg_wait [('topic_30', 'topic_36'), 0.86108108108108106]\n",
      "pos_price ['topic_6', 0.89955555555555555]\n",
      "neg_price [('topic_40', 'topic_68'), 0.89644444444444449]\n",
      "pos_serv [('topic_11', 'topic_41'), 0.77024311834438419]\n",
      "neg_serv [('topic_36', 'topic_56'), 0.82882212968471147]\n",
      "Done with n=75, b=0.1, c=0.01\n"
     ]
    },
    {
     "name": "stderr",
     "output_type": "stream",
     "text": [
      "INFO:lda:<1999> log likelihood: -4113036\n",
      "WARNING:lda:all zero column in document-term matrix found\n"
     ]
    },
    {
     "name": "stdout",
     "output_type": "stream",
     "text": [
      "pos_food [('topic_0', 'topic_18'), 0.81291005291005292]\n",
      "neg_food [('topic_1', 'topic_11'), 0.6143013398960897]\n",
      "pos_wait [('topic_3', 'topic_6'), 0.5718025430067315]\n",
      "neg_wait ['topic_1', 0.72432432432432425]\n",
      "pos_price [('topic_0', 'topic_8'), 0.74488888888888882]\n",
      "neg_price [('topic_1', 'topic_8'), 0.60711111111111105]\n",
      "pos_serv [('topic_0', 'topic_6'), 0.65029134016475787]\n",
      "neg_serv ['topic_1', 0.83283759666864965]\n",
      "Done with n=20, b=0.1, c=1\n"
     ]
    }
   ],
   "source": [
    "p = Pool()\n",
    "top_scores = p.map(testParams, tests)\n",
    "p.close()\n",
    "p.join()"
   ]
  },
  {
   "cell_type": "code",
   "execution_count": 5,
   "metadata": {
    "collapsed": false
   },
   "outputs": [
    {
     "data": {
      "text/plain": [
       "[('n_topics: 10, alpha: 0.1, eta: 0.01',\n",
       "  [('pos_food', [('topic_7', 'topic_8'), 0.73015873015873023]),\n",
       "   ('neg_food', ['topic_5', 0.84454470877768661]),\n",
       "   ('pos_wait', [('topic_3', 'topic_7'), 0.75317875841436055]),\n",
       "   ('neg_wait', ['topic_2', 0.79459459459459458]),\n",
       "   ('pos_price', [('topic_1', 'topic_7'), 0.69066666666666665]),\n",
       "   ('neg_price', [('topic_1', 'topic_5'), 0.84844444444444445]),\n",
       "   ('pos_serv', [('topic_7', 'topic_8'), 0.73920032147880255]),\n",
       "   ('neg_serv', ['topic_2', 0.86525877453896494])]),\n",
       " ('n_topics: 50, alpha: 0.1, eta: 0.01',\n",
       "  [('pos_food', [('topic_0', 'topic_4'), 0.75195767195767194]),\n",
       "   ('neg_food', [('topic_26', 'topic_45'), 0.85097074104457204]),\n",
       "   ('pos_wait', [('topic_10', 'topic_44'), 0.82572924457741204]),\n",
       "   ('neg_wait', [('topic_12', 'topic_25'), 0.80486486486486486]),\n",
       "   ('pos_price', [('topic_7', 'topic_44'), 0.80333333333333334]),\n",
       "   ('neg_price', [('topic_26', 'topic_49'), 0.87755555555555553]),\n",
       "   ('pos_serv', [('topic_7', 'topic_10'), 0.77446252762708467]),\n",
       "   ('neg_serv', [('topic_12', 'topic_37'), 0.83105294467578816])]),\n",
       " ('n_topics: 75, alpha: 0.1, eta: 0.01',\n",
       "  [('pos_food', [('topic_57', 'topic_74'), 0.74888888888888894]),\n",
       "   ('neg_food', [('topic_0', 'topic_68'), 0.81501230516817069]),\n",
       "   ('pos_wait', [('topic_6', 'topic_53'), 0.83507853403141352]),\n",
       "   ('neg_wait', [('topic_30', 'topic_36'), 0.86108108108108106]),\n",
       "   ('pos_price', ['topic_6', 0.89955555555555555]),\n",
       "   ('neg_price', [('topic_40', 'topic_68'), 0.89644444444444449]),\n",
       "   ('pos_serv', [('topic_11', 'topic_41'), 0.77024311834438419]),\n",
       "   ('neg_serv', [('topic_36', 'topic_56'), 0.82882212968471147])]),\n",
       " ('n_topics: 20, alpha: 0.001, eta: 0.01',\n",
       "  [('pos_food', [('topic_7', 'topic_11'), 0.80359788359788364]),\n",
       "   ('neg_food', ['topic_13', 0.84686901832102812]),\n",
       "   ('pos_wait', ['topic_9', 0.7808526551982049]),\n",
       "   ('neg_wait', [('topic_6', 'topic_12'), 0.80270270270270272]),\n",
       "   ('pos_price', ['topic_9', 0.71666666666666667]),\n",
       "   ('neg_price', [('topic_4', 'topic_13'), 0.81488888888888888]),\n",
       "   ('pos_serv', [('topic_0', 'topic_15'), 0.68665862969660441]),\n",
       "   ('neg_serv', [('topic_6', 'topic_12'), 0.85797144556811422])]),\n",
       " ('n_topics: 20, alpha: 0.01, eta: 0.01',\n",
       "  [('pos_food', [('topic_1', 'topic_10'), 0.73089947089947094]),\n",
       "   ('neg_food', ['topic_7', 0.83415367787804218]),\n",
       "   ('pos_wait', [('topic_0', 'topic_10'), 0.76215407629020193]),\n",
       "   ('neg_wait', ['topic_6', 0.79027027027027019]),\n",
       "   ('pos_price', [('topic_4', 'topic_13'), 0.73955555555555552]),\n",
       "   ('neg_price', [('topic_7', 'topic_13'), 0.86844444444444446]),\n",
       "   ('pos_serv', [('topic_10', 'topic_17'), 0.74422342776773154]),\n",
       "   ('neg_serv', ['topic_6', 0.87061273051754917])]),\n",
       " ('n_topics: 20, alpha: 1, eta: 0.01',\n",
       "  [('pos_food', [('topic_2', 'topic_3'), 0.7659259259259259]),\n",
       "   ('neg_food', ['topic_7', 0.80065627563576702]),\n",
       "   ('pos_wait', [('topic_3', 'topic_13'), 0.74794315632011965]),\n",
       "   ('neg_wait', [('topic_2', 'topic_5'), 0.83540540540540542]),\n",
       "   ('pos_price', ['topic_13', 0.70977777777777784]),\n",
       "   ('neg_price', [('topic_4', 'topic_7'), 0.81111111111111112]),\n",
       "   ('pos_serv', ['topic_3', 0.77054450472171976]),\n",
       "   ('neg_serv', [('topic_5', 'topic_7'), 0.8645151695419393])]),\n",
       " ('n_topics: 20, alpha: 10, eta: 0.01',\n",
       "  [('pos_food', [('topic_0', 'topic_19'), 0.7857142857142857]),\n",
       "   ('neg_food', [('topic_13', 'topic_17'), 0.76715887339349198]),\n",
       "   ('pos_wait', [('topic_16', 'topic_19'), 0.77075542258788332]),\n",
       "   ('neg_wait', [('topic_5', 'topic_13'), 0.76621621621621627]),\n",
       "   ('pos_price', ['topic_16', 0.76866666666666672]),\n",
       "   ('neg_price', [('topic_13', 'topic_16'), 0.70999999999999996]),\n",
       "   ('pos_serv', [('topic_11', 'topic_19'), 0.71930882057464329]),\n",
       "   ('neg_serv', [('topic_5', 'topic_13'), 0.85975609756097571])]),\n",
       " ('n_topics: 20, alpha: 0.1, eta: 0.0001',\n",
       "  [('pos_food', [('topic_0', 'topic_11'), 0.74708994708994714]),\n",
       "   ('neg_food', [('topic_5', 'topic_18'), 0.77153404429860539]),\n",
       "   ('pos_wait', [('topic_5', 'topic_11'), 0.81039640987284967]),\n",
       "   ('neg_wait', [('topic_10', 'topic_15'), 0.8002702702702702]),\n",
       "   ('pos_price', [('topic_11', 'topic_19'), 0.69022222222222229]),\n",
       "   ('neg_price', [('topic_8', 'topic_18'), 0.77177777777777778]),\n",
       "   ('pos_serv', [('topic_0', 'topic_11'), 0.71338155515370705]),\n",
       "   ('neg_serv', ['topic_15', 0.82436049970255798])]),\n",
       " ('n_topics: 20, alpha: 0.1, eta: 0.001',\n",
       "  [('pos_food', [('topic_3', 'topic_9'), 0.72042328042328052]),\n",
       "   ('neg_food', [('topic_5', 'topic_13'), 0.85233798195242005]),\n",
       "   ('pos_wait', [('topic_2', 'topic_9'), 0.78347045624532541]),\n",
       "   ('neg_wait', ['topic_15', 0.84351351351351345]),\n",
       "   ('pos_price', [('topic_7', 'topic_9'), 0.72999999999999998]),\n",
       "   ('neg_price', [('topic_7', 'topic_13'), 0.84911111111111104]),\n",
       "   ('pos_serv', [('topic_9', 'topic_17'), 0.71046815350612824]),\n",
       "   ('neg_serv', ['topic_15', 0.84250446162998216])]),\n",
       " ('n_topics: 20, alpha: 0.1, eta: 0.1',\n",
       "  [('pos_food', [('topic_1', 'topic_15'), 0.7484656084656085]),\n",
       "   ('neg_food', ['topic_2', 0.85110746513535684]),\n",
       "   ('pos_wait', [('topic_0', 'topic_15'), 0.77262528047868362]),\n",
       "   ('neg_wait', [('topic_10', 'topic_11'), 0.82162162162162156]),\n",
       "   ('pos_price', [('topic_15', 'topic_19'), 0.76777777777777778]),\n",
       "   ('neg_price', [('topic_2', 'topic_19'), 0.83999999999999986]),\n",
       "   ('pos_serv', [('topic_9', 'topic_15'), 0.76270845891099048]),\n",
       "   ('neg_serv', [('topic_2', 'topic_10'), 0.84994051160023798])]),\n",
       " ('n_topics: 20, alpha: 0.1, eta: 1',\n",
       "  [('pos_food', [('topic_0', 'topic_18'), 0.81291005291005292]),\n",
       "   ('neg_food', [('topic_1', 'topic_11'), 0.6143013398960897]),\n",
       "   ('pos_wait', [('topic_3', 'topic_6'), 0.5718025430067315]),\n",
       "   ('neg_wait', ['topic_1', 0.72432432432432425]),\n",
       "   ('pos_price', [('topic_0', 'topic_8'), 0.74488888888888882]),\n",
       "   ('neg_price', [('topic_1', 'topic_8'), 0.60711111111111105]),\n",
       "   ('pos_serv', [('topic_0', 'topic_6'), 0.65029134016475787]),\n",
       "   ('neg_serv', ['topic_1', 0.83283759666864965])])]"
      ]
     },
     "execution_count": 5,
     "metadata": {},
     "output_type": "execute_result"
    }
   ],
   "source": [
    "top_scores"
   ]
  },
  {
   "cell_type": "code",
   "execution_count": 4,
   "metadata": {
    "collapsed": false,
    "scrolled": true
   },
   "outputs": [
    {
     "name": "stdout",
     "output_type": "stream",
     "text": [
      "n_topics: 10, alpha: 0.1, eta: 0.01: mean: 0.783, hmean: 0.779, min-max: 0.691-0.865\n",
      "n_topics: 50, alpha: 0.1, eta: 0.01: mean: 0.815, hmean: 0.813, min-max: 0.752-0.878\n",
      "n_topics: 75, alpha: 0.1, eta: 0.01: mean: 0.832, hmean: 0.829, min-max: 0.749-0.900\n",
      "n_topics: 20, alpha: 0.001, eta: 0.01: mean: 0.789, hmean: 0.785, min-max: 0.687-0.858\n",
      "n_topics: 20, alpha: 0.01, eta: 0.01: mean: 0.793, hmean: 0.789, min-max: 0.731-0.871\n",
      "n_topics: 20, alpha: 1, eta: 0.01: mean: 0.788, hmean: 0.785, min-max: 0.710-0.865\n",
      "n_topics: 20, alpha: 10, eta: 0.01: mean: 0.768, hmean: 0.766, min-max: 0.710-0.860\n",
      "n_topics: 20, alpha: 0.1, eta: 0.0001: mean: 0.766, hmean: 0.764, min-max: 0.690-0.824\n",
      "n_topics: 20, alpha: 0.1, eta: 0.001: mean: 0.791, hmean: 0.787, min-max: 0.710-0.852\n",
      "n_topics: 20, alpha: 0.1, eta: 0.1: mean: 0.802, hmean: 0.800, min-max: 0.748-0.851\n",
      "n_topics: 20, alpha: 0.1, eta: 1: mean: 0.695, hmean: 0.683, min-max: 0.572-0.833\n"
     ]
    }
   ],
   "source": [
    "# compare summary stats of parameters\n",
    "for parameters, values in top_scores:\n",
    "    vals = [value[1][1] for value in values]\n",
    "    print \"{}: mean: {:.3f}, hmean: {:.3f}, min-max: {:.3f}-{:.3f}\".format(\n",
    "        parameters, np.mean(vals), hmean(vals), min(vals), max(vals))"
   ]
  },
  {
   "cell_type": "code",
   "execution_count": 16,
   "metadata": {
    "collapsed": false
   },
   "outputs": [
    {
     "name": "stdout",
     "output_type": "stream",
     "text": [
      "n_topics: 10, alpha: 0.1, eta: 0.01: mean: 0.838, hmean: 0.837, min-max: 0.795-0.865\n",
      "n_topics: 50, alpha: 0.1, eta: 0.01: mean: 0.841, hmean: 0.840, min-max: 0.805-0.878\n",
      "n_topics: 75, alpha: 0.1, eta: 0.01: mean: 0.850, hmean: 0.849, min-max: 0.815-0.896\n",
      "n_topics: 20, alpha: 0.001, eta: 0.01: mean: 0.831, hmean: 0.830, min-max: 0.803-0.858\n",
      "n_topics: 20, alpha: 0.01, eta: 0.01: mean: 0.841, hmean: 0.840, min-max: 0.790-0.871\n",
      "n_topics: 20, alpha: 1, eta: 0.01: mean: 0.828, hmean: 0.827, min-max: 0.801-0.865\n",
      "n_topics: 20, alpha: 10, eta: 0.01: mean: 0.776, hmean: 0.772, min-max: 0.710-0.860\n",
      "n_topics: 20, alpha: 0.1, eta: 0.0001: mean: 0.792, hmean: 0.791, min-max: 0.772-0.824\n",
      "n_topics: 20, alpha: 0.1, eta: 0.001: mean: 0.847, hmean: 0.847, min-max: 0.843-0.852\n",
      "n_topics: 20, alpha: 0.1, eta: 0.1: mean: 0.841, hmean: 0.840, min-max: 0.822-0.851\n",
      "n_topics: 20, alpha: 0.1, eta: 1: mean: 0.695, hmean: 0.683, min-max: 0.607-0.833\n"
     ]
    }
   ],
   "source": [
    "# compare summary stats of parameters - negative only\n",
    "for parameters, values in top_scores:\n",
    "    vals = []\n",
    "    for value in values:\n",
    "        if value[0].split('_')[0] == 'neg':\n",
    "            vals += [value[1][1]]\n",
    "    print \"{}: mean: {:.3f}, hmean: {:.3f}, min-max: {:.3f}-{:.3f}\".format(\n",
    "        parameters, np.mean(vals), hmean(vals), min(vals), max(vals))"
   ]
  },
  {
   "cell_type": "markdown",
   "metadata": {},
   "source": [
    "None seem to have *great* scores for positive attributes, and I believe identifying negative attributes is more important than positive ones. The baseline (n_topics = 20, alpha = 0.1, beta = 0.01) did the best on these negative attributes (The average was 0.869). Therefore, I will gridsearch around these baseline values."
   ]
  },
  {
   "cell_type": "code",
   "execution_count": 17,
   "metadata": {
    "collapsed": false
   },
   "outputs": [],
   "source": [
    "n_topicss = [18, 20, 22]\n",
    "alphas = [.08, .1, .2]\n",
    "etas = [.008, .01, .02]\n",
    "\n",
    "count_vec, rev_vec, rev_badlines = t.fitApplyVectorizer(filtered_10K.text,\n",
    "                                     t.foodwordPolarityTokenizer)\n",
    "reviews = filtered_10K.copy()\n",
    "reviews = reviews[reviews.text.apply(\n",
    "        lambda x: False if x in rev_badlines else True)]\n",
    "\n",
    "code_vec, code_badlines = t.applyVectorizer(coded.text, t.foodwordPolarityTokenizer,\n",
    "                                           count_vec)\n",
    "code_rev = coded.copy()\n",
    "code_rev = code_rev[code_rev.text.apply(\n",
    "        lambda x: False if x in code_badlines else True)]\n",
    "\n",
    "def testParams((n_topics, alpha, eta)):\n",
    "    imp = lda_implementation.compareToManualNoPrint(reviews.text, rev_vec, code_rev, code_vec,\n",
    "                                             n_topics=n_topics, alpha=alpha, eta=eta)\n",
    "    return ('n_topics: {}, alpha: {}, eta: {}'.format(str(n_topics), str(alpha), str(eta)), imp)"
   ]
  },
  {
   "cell_type": "code",
   "execution_count": 18,
   "metadata": {
    "collapsed": false
   },
   "outputs": [
    {
     "name": "stderr",
     "output_type": "stream",
     "text": [
      "INFO:lda:n_documents: 9689\n",
      "INFO:lda:n_documents: 9689\n",
      "INFO:lda:n_documents: 9689\n",
      "INFO:lda:vocab_size: 19491\n",
      "INFO:lda:n_words: 616730\n",
      "INFO:lda:n_documents: 9689\n",
      "INFO:lda:vocab_size: 19491\n",
      "INFO:lda:n_topics: 18\n",
      "INFO:lda:vocab_size: 19491\n",
      "INFO:lda:n_words: 616730\n",
      "INFO:lda:n_iter: 2000\n",
      "INFO:lda:vocab_size: 19491\n",
      "INFO:lda:n_words: 616730\n",
      "INFO:lda:n_words: 616730\n",
      "WARNING:lda:all zero row in document-term matrix found\n",
      "INFO:lda:n_topics: 18\n",
      "INFO:lda:n_topics: 18\n",
      "INFO:lda:n_topics: 18\n",
      "INFO:lda:n_iter: 2000\n",
      "INFO:lda:n_iter: 2000\n",
      "WARNING:lda:all zero row in document-term matrix found\n",
      "INFO:lda:n_iter: 2000\n",
      "WARNING:lda:all zero row in document-term matrix found\n",
      "WARNING:lda:all zero row in document-term matrix found\n",
      "INFO:lda:<0> log likelihood: -6143325\n",
      "INFO:lda:<0> log likelihood: -6196487\n",
      "INFO:lda:<0> log likelihood: -6210136\n",
      "INFO:lda:<0> log likelihood: -6254037\n",
      "INFO:lda:<1000> log likelihood: -4380218\n",
      "INFO:lda:<1000> log likelihood: -4395827\n",
      "INFO:lda:<1000> log likelihood: -4401584\n",
      "INFO:lda:<1000> log likelihood: -4449571\n",
      "INFO:lda:<1999> log likelihood: -4385416\n",
      "WARNING:lda:all zero column in document-term matrix found\n",
      "INFO:lda:<1999> log likelihood: -4382493\n",
      "WARNING:lda:all zero column in document-term matrix found\n",
      "INFO:lda:<1999> log likelihood: -4399150\n",
      "WARNING:lda:all zero column in document-term matrix found\n",
      "INFO:lda:<1999> log likelihood: -4442954\n",
      "WARNING:lda:all zero column in document-term matrix found\n"
     ]
    },
    {
     "name": "stdout",
     "output_type": "stream",
     "text": [
      "pos_food [('topic_3', 'topic_16'), 0.73724867724867715]\n",
      "neg_food [('topic_2', 'topic_5'), 0.84276729559748442]\n",
      "pos_wait [('topic_3', 'topic_7'), 0.79842931937172767]\n",
      "neg_wait ['topic_10', 0.80972972972972979]\n",
      "pos_price [('topic_3', 'topic_12'), 0.7082222222222222]\n",
      "neg_price [('topic_5', 'topic_6'), 0.87688888888888883]\n",
      "pos_serv [('topic_0', 'topic_3'), 0.73447860156720912]\n",
      "neg_serv [('topic_5', 'topic_10'), 0.85707911957168359]\n",
      "Done with n=18, b=0.08, c=0.008\n"
     ]
    },
    {
     "name": "stderr",
     "output_type": "stream",
     "text": [
      "INFO:lda:n_documents: 9689\n",
      "INFO:lda:vocab_size: 19491\n",
      "INFO:lda:n_words: 616730\n",
      "INFO:lda:n_topics: 18\n",
      "INFO:lda:n_iter: 2000\n",
      "WARNING:lda:all zero row in document-term matrix found\n"
     ]
    },
    {
     "name": "stdout",
     "output_type": "stream",
     "text": [
      "pos_food [('topic_0', 'topic_17'), 0.70931216931216934]\n",
      "neg_food ['topic_6', 0.83059885151763735]\n",
      "pos_wait [('topic_4', 'topic_17'), 0.79693343305908748]\n",
      "neg_wait ['topic_10', 0.81621621621621621]\n",
      "pos_price [('topic_13', 'topic_17'), 0.78800000000000003]\n",
      "neg_price [('topic_6', 'topic_16'), 0.85199999999999998]\n",
      "pos_serv [('topic_5', 'topic_14'), 0.740506329113924]\n",
      "neg_serv ['topic_10', 0.86481261154074962]\n",
      "Done with n=18, b=0.08, c=0.02\n"
     ]
    },
    {
     "name": "stderr",
     "output_type": "stream",
     "text": [
      "INFO:lda:n_documents: 9689\n",
      "INFO:lda:vocab_size: 19491\n",
      "INFO:lda:n_words: 616730\n",
      "INFO:lda:n_topics: 18\n",
      "INFO:lda:n_iter: 2000\n",
      "WARNING:lda:all zero row in document-term matrix found\n"
     ]
    },
    {
     "name": "stdout",
     "output_type": "stream",
     "text": [
      "pos_food [('topic_0', 'topic_8'), 0.70126984126984127]\n",
      "neg_food ['topic_6', 0.83675143560295318]\n",
      "pos_wait [('topic_4', 'topic_8'), 0.81413612565445026]\n",
      "neg_wait ['topic_5', 0.81054054054054059]\n",
      "pos_price [('topic_8', 'topic_14'), 0.76777777777777789]\n",
      "neg_price [('topic_6', 'topic_7'), 0.85022222222222221]\n",
      "pos_serv [('topic_8', 'topic_15'), 0.73367490456098061]\n",
      "neg_serv [('topic_5', 'topic_6'), 0.86377156454491366]\n",
      "Done with n=18, b=0.1, c=0.01\n"
     ]
    },
    {
     "name": "stderr",
     "output_type": "stream",
     "text": [
      "INFO:lda:n_documents: 9689\n",
      "INFO:lda:vocab_size: 19491\n",
      "INFO:lda:n_words: 616730\n",
      "INFO:lda:n_topics: 18\n",
      "INFO:lda:n_iter: 2000\n",
      "WARNING:lda:all zero row in document-term matrix found\n"
     ]
    },
    {
     "name": "stdout",
     "output_type": "stream",
     "text": [
      "pos_food [('topic_4', 'topic_8'), 0.74878306878306888]\n",
      "neg_food ['topic_6', 0.84960350013672403]\n",
      "pos_wait [('topic_15', 'topic_17'), 0.75130890052356025]\n",
      "neg_wait ['topic_5', 0.84432432432432436]\n",
      "pos_price [('topic_13', 'topic_14'), 0.80488888888888888]\n",
      "neg_price ['topic_6', 0.84755555555555551]\n",
      "pos_serv ['topic_8', 0.78300180831826405]\n",
      "neg_serv ['topic_5', 0.85916121356335518]\n",
      "Done with n=18, b=0.2, c=0.008\n"
     ]
    },
    {
     "name": "stderr",
     "output_type": "stream",
     "text": [
      "INFO:lda:n_documents: 9689\n",
      "INFO:lda:vocab_size: 19491\n",
      "INFO:lda:n_words: 616730\n",
      "INFO:lda:n_topics: 18\n",
      "INFO:lda:n_iter: 2000\n",
      "WARNING:lda:all zero row in document-term matrix found\n",
      "INFO:lda:<0> log likelihood: -6225370\n",
      "INFO:lda:<0> log likelihood: -6238803\n",
      "INFO:lda:<0> log likelihood: -6167820\n",
      "INFO:lda:<0> log likelihood: -6128092\n",
      "INFO:lda:<1000> log likelihood: -4401956\n",
      "INFO:lda:<1000> log likelihood: -4408797\n",
      "INFO:lda:<1000> log likelihood: -4407397\n",
      "INFO:lda:<1000> log likelihood: -4452335\n",
      "INFO:lda:<1999> log likelihood: -4398115\n",
      "WARNING:lda:all zero column in document-term matrix found\n",
      "INFO:lda:<1999> log likelihood: -4403718\n",
      "WARNING:lda:all zero column in document-term matrix found\n",
      "INFO:lda:<1999> log likelihood: -4407179\n",
      "WARNING:lda:all zero column in document-term matrix found\n"
     ]
    },
    {
     "name": "stdout",
     "output_type": "stream",
     "text": [
      "pos_food [('topic_1', 'topic_15'), 0.70761904761904759]\n",
      "neg_food [('topic_7', 'topic_11'), 0.76278370248837846]\n",
      "pos_wait [('topic_3', 'topic_14'), 0.76963350785340312]\n",
      "neg_wait [('topic_5', 'topic_10'), 0.81918918918918915]\n",
      "pos_price [('topic_3', 'topic_12'), 0.72933333333333328]\n",
      "neg_price [('topic_6', 'topic_7'), 0.86022222222222222]\n",
      "pos_serv [('topic_3', 'topic_14'), 0.74372111713883871]\n",
      "neg_serv [('topic_5', 'topic_10'), 0.8761154074955384]\n",
      "Done with n=18, b=0.08, c=0.01\n"
     ]
    },
    {
     "name": "stderr",
     "output_type": "stream",
     "text": [
      "INFO:lda:n_documents: 9689\n",
      "INFO:lda:vocab_size: 19491\n",
      "INFO:lda:n_words: 616730\n",
      "INFO:lda:n_topics: 18\n",
      "INFO:lda:n_iter: 2000\n",
      "WARNING:lda:all zero row in document-term matrix found\n"
     ]
    },
    {
     "name": "stdout",
     "output_type": "stream",
     "text": [
      "pos_food [('topic_8', 'topic_17'), 0.74888888888888894]\n",
      "neg_food [('topic_2', 'topic_6'), 0.81473885698660098]\n",
      "pos_wait [('topic_8', 'topic_16'), 0.82722513089005234]\n",
      "neg_wait ['topic_5', 0.83405405405405408]\n",
      "pos_price [('topic_8', 'topic_12'), 0.77711111111111109]\n",
      "neg_price [('topic_2', 'topic_6'), 0.82933333333333337]\n",
      "pos_serv [('topic_8', 'topic_15'), 0.72654209363070121]\n",
      "neg_serv [('topic_5', 'topic_10'), 0.85187388459250446]\n",
      "Done with n=18, b=0.1, c=0.008\n"
     ]
    },
    {
     "name": "stderr",
     "output_type": "stream",
     "text": [
      "INFO:lda:n_documents: 9689\n",
      "INFO:lda:vocab_size: 19491\n",
      "INFO:lda:n_words: 616730\n",
      "INFO:lda:n_topics: 20\n",
      "INFO:lda:n_iter: 2000\n",
      "WARNING:lda:all zero row in document-term matrix found\n"
     ]
    },
    {
     "name": "stdout",
     "output_type": "stream",
     "text": [
      "pos_food [('topic_8', 'topic_16'), 0.75312169312169308]\n",
      "neg_food [('topic_6', 'topic_16'), 0.85165436149849605]\n",
      "pos_wait [('topic_4', 'topic_9'), 0.77000747943156322]\n",
      "neg_wait ['topic_5', 0.83378378378378371]\n",
      "pos_price [('topic_13', 'topic_17'), 0.79444444444444451]\n",
      "neg_price [('topic_3', 'topic_6'), 0.8368888888888889]\n",
      "pos_serv [('topic_8', 'topic_9'), 0.76120152702431176]\n",
      "neg_serv [('topic_5', 'topic_10'), 0.85098155859607372]\n",
      "Done with n=18, b=0.1, c=0.02\n"
     ]
    },
    {
     "name": "stderr",
     "output_type": "stream",
     "text": [
      "INFO:lda:n_documents: 9689\n",
      "INFO:lda:vocab_size: 19491\n",
      "INFO:lda:n_words: 616730\n",
      "INFO:lda:n_topics: 20\n",
      "INFO:lda:n_iter: 2000\n",
      "WARNING:lda:all zero row in document-term matrix found\n",
      "INFO:lda:<1999> log likelihood: -4452389\n",
      "WARNING:lda:all zero column in document-term matrix found\n"
     ]
    },
    {
     "name": "stdout",
     "output_type": "stream",
     "text": [
      "pos_food [('topic_0', 'topic_3'), 0.7124867724867725]\n",
      "neg_food [('topic_6', 'topic_16'), 0.85233798195242005]\n",
      "pos_wait [('topic_4', 'topic_7'), 0.72961854899027667]\n",
      "neg_wait ['topic_5', 0.80891891891891898]\n",
      "pos_price [('topic_7', 'topic_13'), 0.80222222222222228]\n",
      "neg_price [('topic_2', 'topic_6'), 0.83488888888888879]\n",
      "pos_serv ['topic_3', 0.74984930681133222]\n",
      "neg_serv [('topic_5', 'topic_9'), 0.85648423557406295]\n",
      "Done with n=18, b=0.2, c=0.01\n"
     ]
    },
    {
     "name": "stderr",
     "output_type": "stream",
     "text": [
      "INFO:lda:n_documents: 9689\n",
      "INFO:lda:vocab_size: 19491\n",
      "INFO:lda:n_words: 616730\n",
      "INFO:lda:n_topics: 20\n",
      "INFO:lda:n_iter: 2000\n",
      "WARNING:lda:all zero row in document-term matrix found\n",
      "INFO:lda:<0> log likelihood: -6085775\n",
      "INFO:lda:<0> log likelihood: -6327134\n",
      "INFO:lda:<0> log likelihood: -6342830\n",
      "INFO:lda:<0> log likelihood: -6267652\n",
      "INFO:lda:<1000> log likelihood: -4468409\n",
      "INFO:lda:<1000> log likelihood: -4422798\n",
      "INFO:lda:<1000> log likelihood: -4402553\n",
      "INFO:lda:<1000> log likelihood: -4429584\n",
      "INFO:lda:<1999> log likelihood: -4463469\n",
      "WARNING:lda:all zero column in document-term matrix found\n"
     ]
    },
    {
     "name": "stdout",
     "output_type": "stream",
     "text": [
      "pos_food [('topic_1', 'topic_3'), 0.73195767195767203]\n",
      "neg_food [('topic_5', 'topic_16'), 0.8192507519824993]\n",
      "pos_wait [('topic_3', 'topic_17'), 0.75130890052356025]\n",
      "neg_wait ['topic_10', 0.82162162162162156]\n",
      "pos_price [('topic_12', 'topic_15'), 0.81066666666666665]\n",
      "neg_price [('topic_5', 'topic_15'), 0.81933333333333325]\n",
      "pos_serv [('topic_0', 'topic_3'), 0.76662648181635529]\n",
      "neg_serv [('topic_5', 'topic_10'), 0.87834622248661509]\n",
      "Done with n=18, b=0.2, c=0.02\n"
     ]
    },
    {
     "name": "stderr",
     "output_type": "stream",
     "text": [
      "INFO:lda:n_documents: 9689\n",
      "INFO:lda:vocab_size: 19491\n",
      "INFO:lda:n_words: 616730\n",
      "INFO:lda:n_topics: 20\n",
      "INFO:lda:n_iter: 2000\n",
      "WARNING:lda:all zero row in document-term matrix found\n",
      "INFO:lda:<0> log likelihood: -6358639\n",
      "INFO:lda:<1999> log likelihood: -4413066\n",
      "WARNING:lda:all zero column in document-term matrix found\n",
      "INFO:lda:<1999> log likelihood: -4398517\n",
      "WARNING:lda:all zero column in document-term matrix found\n",
      "INFO:lda:<1999> log likelihood: -4427698\n",
      "WARNING:lda:all zero column in document-term matrix found\n"
     ]
    },
    {
     "name": "stdout",
     "output_type": "stream",
     "text": [
      "pos_food [('topic_2', 'topic_14'), 0.74211640211640217]\n",
      "neg_food ['topic_7', 0.85329505058791355]\n",
      "pos_wait [('topic_6', 'topic_14'), 0.7894540014958864]\n",
      "neg_wait ['topic_15', 0.8464864864864865]\n",
      "pos_price [('topic_13', 'topic_14'), 0.72111111111111115]\n",
      "neg_price [('topic_7', 'topic_13'), 0.85888888888888892]\n",
      "pos_serv [('topic_3', 'topic_14'), 0.74914607193088212]\n",
      "neg_serv ['topic_15', 0.87418203450327181]\n",
      "Done with n=20, b=0.1, c=0.008\n"
     ]
    },
    {
     "name": "stderr",
     "output_type": "stream",
     "text": [
      "INFO:lda:n_documents: 9689\n",
      "INFO:lda:vocab_size: 19491\n",
      "INFO:lda:n_words: 616730\n",
      "INFO:lda:n_topics: 20\n",
      "INFO:lda:n_iter: 2000\n",
      "WARNING:lda:all zero row in document-term matrix found\n"
     ]
    },
    {
     "name": "stdout",
     "output_type": "stream",
     "text": [
      "pos_food [('topic_8', 'topic_15'), 0.74285714285714288]\n",
      "neg_food ['topic_14', 0.83743505605687718]\n",
      "pos_wait [('topic_9', 'topic_15'), 0.81039640987284967]\n",
      "neg_wait [('topic_10', 'topic_16'), 0.84405405405405398]\n",
      "pos_price [('topic_12', 'topic_15'), 0.74711111111111117]\n",
      "neg_price [('topic_14', 'topic_18'), 0.85799999999999998]\n",
      "pos_serv [('topic_3', 'topic_15'), 0.73467952581876639]\n",
      "neg_serv ['topic_10', 0.87224866151100544]\n",
      "Done with n=20, b=0.08, c=0.01\n"
     ]
    },
    {
     "name": "stderr",
     "output_type": "stream",
     "text": [
      "INFO:lda:n_documents: 9689\n",
      "INFO:lda:vocab_size: 19491\n",
      "INFO:lda:n_words: 616730\n",
      "INFO:lda:n_topics: 20\n",
      "INFO:lda:n_iter: 2000\n",
      "WARNING:lda:all zero row in document-term matrix found\n"
     ]
    },
    {
     "name": "stdout",
     "output_type": "stream",
     "text": [
      "pos_food [('topic_5', 'topic_8'), 0.77089947089947086]\n",
      "neg_food ['topic_6', 0.85985780694558378]\n",
      "pos_wait [('topic_0', 'topic_11'), 0.77935676888556471]\n",
      "neg_wait ['topic_10', 0.82702702702702702]\n",
      "pos_price [('topic_13', 'topic_19'), 0.75111111111111106]\n",
      "neg_price [('topic_6', 'topic_14'), 0.83355555555555549]\n",
      "pos_serv [('topic_8', 'topic_17'), 0.75426964034558974]\n",
      "neg_serv ['topic_10', 0.87447947650208213]\n",
      "Done with n=20, b=0.1, c=0.02\n"
     ]
    },
    {
     "name": "stderr",
     "output_type": "stream",
     "text": [
      "INFO:lda:n_documents: 9689\n",
      "INFO:lda:vocab_size: 19491\n",
      "INFO:lda:n_words: 616730\n",
      "INFO:lda:n_topics: 20\n",
      "INFO:lda:n_iter: 2000\n",
      "WARNING:lda:all zero row in document-term matrix found\n",
      "INFO:lda:<0> log likelihood: -6311326\n",
      "INFO:lda:<0> log likelihood: -6299156\n",
      "INFO:lda:<0> log likelihood: -6237127\n",
      "INFO:lda:<1000> log likelihood: -4409450\n",
      "INFO:lda:<1000> log likelihood: -4419772\n",
      "INFO:lda:<1000> log likelihood: -4407706\n",
      "INFO:lda:<1000> log likelihood: -4461029\n",
      "INFO:lda:<1999> log likelihood: -4406196\n",
      "WARNING:lda:all zero column in document-term matrix found\n"
     ]
    },
    {
     "name": "stdout",
     "output_type": "stream",
     "text": [
      "pos_food [('topic_1', 'topic_19'), 0.74730158730158724]\n",
      "neg_food ['topic_18', 0.84837298331966093]\n",
      "pos_wait [('topic_0', 'topic_19'), 0.7849663425579656]\n",
      "neg_wait ['topic_15', 0.8424324324324326]\n",
      "pos_price [('topic_12', 'topic_19'), 0.78200000000000003]\n",
      "neg_price ['topic_18', 0.88955555555555543]\n",
      "pos_serv [('topic_3', 'topic_19'), 0.73578460920233069]\n",
      "neg_serv [('topic_10', 'topic_15'), 0.86258179654967282]\n",
      "Done with n=20, b=0.08, c=0.008\n"
     ]
    },
    {
     "name": "stderr",
     "output_type": "stream",
     "text": [
      "INFO:lda:n_documents: 9689\n",
      "INFO:lda:vocab_size: 19491\n",
      "INFO:lda:n_words: 616730\n",
      "INFO:lda:n_topics: 20\n",
      "INFO:lda:n_iter: 2000\n",
      "WARNING:lda:all zero row in document-term matrix found\n",
      "INFO:lda:<0> log likelihood: -6221318\n",
      "INFO:lda:<1999> log likelihood: -4414546\n",
      "WARNING:lda:all zero column in document-term matrix found\n",
      "INFO:lda:<1999> log likelihood: -4407119\n",
      "WARNING:lda:all zero column in document-term matrix found\n"
     ]
    },
    {
     "name": "stdout",
     "output_type": "stream",
     "text": [
      "pos_food [('topic_5', 'topic_14'), 0.72359788359788357]\n",
      "neg_food ['topic_13', 0.87284659557013944]\n",
      "pos_wait [('topic_0', 'topic_19'), 0.77449513836948392]\n",
      "neg_wait ['topic_12', 0.8472972972972973]\n",
      "pos_price [('topic_15', 'topic_19'), 0.7877777777777778]\n",
      "neg_price ['topic_13', 0.89266666666666661]\n",
      "pos_serv [('topic_14', 'topic_17'), 0.75868997387984738]\n",
      "neg_serv [('topic_10', 'topic_12'), 0.86377156454491377]\n",
      "Done with n=20, b=0.1, c=0.01\n"
     ]
    },
    {
     "name": "stderr",
     "output_type": "stream",
     "text": [
      "INFO:lda:n_documents: 9689\n",
      "INFO:lda:vocab_size: 19491\n",
      "INFO:lda:n_words: 616730\n",
      "INFO:lda:n_topics: 22\n",
      "INFO:lda:n_iter: 2000\n",
      "WARNING:lda:all zero row in document-term matrix found\n"
     ]
    },
    {
     "name": "stdout",
     "output_type": "stream",
     "text": [
      "pos_food [('topic_17', 'topic_19'), 0.72074074074074079]\n",
      "neg_food ['topic_13', 0.87886245556467046]\n",
      "pos_wait [('topic_0', 'topic_19'), 0.79992520568436798]\n",
      "neg_wait [('topic_6', 'topic_15'), 0.81594594594594583]\n",
      "pos_price [('topic_4', 'topic_19'), 0.7771111111111112]\n",
      "neg_price ['topic_13', 0.86555555555555563]\n",
      "pos_serv [('topic_14', 'topic_19'), 0.72222222222222232]\n",
      "neg_serv [('topic_6', 'topic_15'), 0.86302795954788813]\n",
      "Done with n=20, b=0.08, c=0.02\n"
     ]
    },
    {
     "name": "stderr",
     "output_type": "stream",
     "text": [
      "INFO:lda:n_documents: 9689\n",
      "INFO:lda:vocab_size: 19491\n",
      "INFO:lda:n_words: 616730\n",
      "INFO:lda:n_topics: 22\n",
      "INFO:lda:n_iter: 2000\n",
      "WARNING:lda:all zero row in document-term matrix found\n",
      "INFO:lda:<1999> log likelihood: -4453812\n",
      "WARNING:lda:all zero column in document-term matrix found\n"
     ]
    },
    {
     "name": "stdout",
     "output_type": "stream",
     "text": [
      "pos_food [('topic_8', 'topic_16'), 0.76582010582010585]\n",
      "neg_food ['topic_7', 0.86614711512168452]\n",
      "pos_wait [('topic_0', 'topic_8'), 0.81114435302916976]\n",
      "neg_wait ['topic_15', 0.8532432432432433]\n",
      "pos_price [('topic_8', 'topic_13'), 0.71711111111111114]\n",
      "neg_price [('topic_7', 'topic_13'), 0.85822222222222222]\n",
      "pos_serv [('topic_8', 'topic_11'), 0.74181233674904568]\n",
      "neg_serv [('topic_5', 'topic_15'), 0.86332540154669835]\n",
      "Done with n=20, b=0.2, c=0.008\n"
     ]
    },
    {
     "name": "stderr",
     "output_type": "stream",
     "text": [
      "INFO:lda:n_documents: 9689\n",
      "INFO:lda:vocab_size: 19491\n",
      "INFO:lda:n_words: 616730\n",
      "INFO:lda:n_topics: 22\n",
      "INFO:lda:n_iter: 2000\n",
      "WARNING:lda:all zero row in document-term matrix found\n",
      "INFO:lda:<0> log likelihood: -6454773\n",
      "INFO:lda:<0> log likelihood: -6393536\n",
      "INFO:lda:<0> log likelihood: -6404221\n",
      "INFO:lda:<1000> log likelihood: -4468148\n",
      "INFO:lda:<1000> log likelihood: -4417110\n",
      "INFO:lda:<1000> log likelihood: -4421583\n",
      "INFO:lda:<1000> log likelihood: -4437793\n",
      "INFO:lda:<1999> log likelihood: -4463743\n",
      "WARNING:lda:all zero column in document-term matrix found\n"
     ]
    },
    {
     "name": "stdout",
     "output_type": "stream",
     "text": [
      "pos_food [('topic_1', 'topic_16'), 0.77449735449735446]\n",
      "neg_food ['topic_5', 0.84905660377358494]\n",
      "pos_wait [('topic_12', 'topic_16'), 0.78534031413612571]\n",
      "neg_wait ['topic_6', 0.81918918918918915]\n",
      "pos_price ['topic_18', 0.7546666666666666]\n",
      "neg_price [('topic_5', 'topic_18'), 0.82911111111111113]\n",
      "pos_serv [('topic_0', 'topic_16'), 0.75426964034558974]\n",
      "neg_serv [('topic_6', 'topic_15'), 0.83938132064247473]\n",
      "Done with n=20, b=0.2, c=0.01\n"
     ]
    },
    {
     "name": "stderr",
     "output_type": "stream",
     "text": [
      "INFO:lda:n_documents: 9689\n",
      "INFO:lda:vocab_size: 19491\n",
      "INFO:lda:n_words: 616730\n",
      "INFO:lda:n_topics: 20\n",
      "INFO:lda:n_iter: 2000\n",
      "WARNING:lda:all zero row in document-term matrix found\n",
      "INFO:lda:<0> log likelihood: -6177644\n",
      "INFO:lda:<1999> log likelihood: -4412835\n",
      "WARNING:lda:all zero column in document-term matrix found\n"
     ]
    },
    {
     "name": "stdout",
     "output_type": "stream",
     "text": [
      "pos_food [('topic_1', 'topic_21'), 0.75301587301587314]\n",
      "neg_food ['topic_20', 0.85643970467596398]\n",
      "pos_wait [('topic_0', 'topic_21'), 0.83171278982797303]\n",
      "neg_wait [('topic_2', 'topic_15'), 0.81837837837837846]\n",
      "pos_price [('topic_18', 'topic_21'), 0.76177777777777778]\n",
      "neg_price [('topic_18', 'topic_20'), 0.84555555555555562]\n",
      "pos_serv ['topic_21', 0.72845087402049435]\n",
      "neg_serv [('topic_2', 'topic_15'), 0.8596073765615706]\n",
      "Done with n=22, b=0.08, c=0.008\n"
     ]
    },
    {
     "name": "stderr",
     "output_type": "stream",
     "text": [
      "INFO:lda:n_documents: 9689\n",
      "INFO:lda:vocab_size: 19491\n",
      "INFO:lda:n_words: 616730\n",
      "INFO:lda:n_topics: 22\n",
      "INFO:lda:n_iter: 2000\n",
      "WARNING:lda:all zero row in document-term matrix found\n",
      "INFO:lda:<1999> log likelihood: -4419841\n",
      "WARNING:lda:all zero column in document-term matrix found\n",
      "INFO:lda:<1999> log likelihood: -4431232\n",
      "WARNING:lda:all zero column in document-term matrix found\n"
     ]
    },
    {
     "name": "stdout",
     "output_type": "stream",
     "text": [
      "pos_food [('topic_0', 'topic_10'), 0.72507936507936521]\n",
      "neg_food ['topic_20', 0.84905660377358494]\n",
      "pos_wait [('topic_3', 'topic_10'), 0.78833208676140609]\n",
      "neg_wait ['topic_15', 0.83918918918918917]\n",
      "pos_price [('topic_17', 'topic_18'), 0.68822222222222229]\n",
      "neg_price [('topic_17', 'topic_20'), 0.85599999999999987]\n",
      "pos_serv [('topic_10', 'topic_18'), 0.74954792043399632]\n",
      "neg_serv ['topic_15', 0.86421772754312909]\n",
      "Done with n=22, b=0.08, c=0.02\n"
     ]
    },
    {
     "name": "stderr",
     "output_type": "stream",
     "text": [
      "INFO:lda:n_documents: 9689\n",
      "INFO:lda:vocab_size: 19491\n",
      "INFO:lda:n_words: 616730\n",
      "INFO:lda:n_topics: 22\n",
      "INFO:lda:n_iter: 2000\n",
      "WARNING:lda:all zero row in document-term matrix found\n"
     ]
    },
    {
     "name": "stdout",
     "output_type": "stream",
     "text": [
      "pos_food [('topic_0', 'topic_21'), 0.74899470899470899]\n",
      "neg_food ['topic_20', 0.84837298331966093]\n",
      "pos_wait [('topic_5', 'topic_12'), 0.76514584891548254]\n",
      "neg_wait ['topic_15', 0.81270270270270273]\n",
      "pos_price [('topic_12', 'topic_21'), 0.71777777777777785]\n",
      "neg_price [('topic_3', 'topic_20'), 0.83933333333333338]\n",
      "pos_serv [('topic_11', 'topic_21'), 0.74241510950371703]\n",
      "neg_serv ['topic_15', 0.86867935752528258]\n",
      "Done with n=22, b=0.1, c=0.01\n"
     ]
    },
    {
     "name": "stderr",
     "output_type": "stream",
     "text": [
      "INFO:lda:n_documents: 9689\n",
      "INFO:lda:vocab_size: 19491\n",
      "INFO:lda:n_words: 616730\n",
      "INFO:lda:n_topics: 22\n",
      "INFO:lda:n_iter: 2000\n",
      "WARNING:lda:all zero row in document-term matrix found\n",
      "INFO:lda:<0> log likelihood: -6438437\n",
      "INFO:lda:<0> log likelihood: -6420557\n",
      "INFO:lda:<0> log likelihood: -6359320\n",
      "INFO:lda:<1000> log likelihood: -4488066\n",
      "INFO:lda:<1000> log likelihood: -4420183\n",
      "INFO:lda:<1000> log likelihood: -4434093\n",
      "INFO:lda:<1000> log likelihood: -4445015\n",
      "INFO:lda:<1999> log likelihood: -4485404\n",
      "WARNING:lda:all zero column in document-term matrix found\n"
     ]
    },
    {
     "name": "stdout",
     "output_type": "stream",
     "text": [
      "pos_food [('topic_5', 'topic_11'), 0.76582010582010573]\n",
      "neg_food ['topic_4', 0.83866557287394028]\n",
      "pos_wait [('topic_0', 'topic_11'), 0.76626776364996263]\n",
      "neg_wait [('topic_10', 'topic_15'), 0.81135135135135128]\n",
      "pos_price [('topic_14', 'topic_19'), 0.77244444444444438]\n",
      "neg_price ['topic_4', 0.82511111111111113]\n",
      "pos_serv [('topic_11', 'topic_17'), 0.73879847297568824]\n",
      "neg_serv [('topic_10', 'topic_15'), 0.8576740035693039]\n",
      "Done with n=20, b=0.2, c=0.02\n"
     ]
    },
    {
     "name": "stderr",
     "output_type": "stream",
     "text": [
      "INFO:lda:n_documents: 9689\n",
      "INFO:lda:vocab_size: 19491\n",
      "INFO:lda:n_words: 616730\n",
      "INFO:lda:n_topics: 22\n",
      "INFO:lda:n_iter: 2000\n",
      "WARNING:lda:all zero row in document-term matrix found\n",
      "INFO:lda:<0> log likelihood: -6322963\n",
      "INFO:lda:<1999> log likelihood: -4413153\n",
      "WARNING:lda:all zero column in document-term matrix found\n"
     ]
    },
    {
     "name": "stdout",
     "output_type": "stream",
     "text": [
      "pos_food [('topic_0', 'topic_9'), 0.75164021164021166]\n",
      "neg_food ['topic_8', 0.8632759092152037]\n",
      "pos_wait [('topic_10', 'topic_12'), 0.78982797307404629]\n",
      "neg_wait [('topic_5', 'topic_15'), 0.81837837837837835]\n",
      "pos_price [('topic_6', 'topic_10'), 0.81311111111111112]\n",
      "neg_price ['topic_8', 0.86066666666666669]\n",
      "pos_serv [('topic_4', 'topic_9'), 0.73699015471167373]\n",
      "neg_serv [('topic_5', 'topic_15'), 0.87581796549672819]\n",
      "Done with n=22, b=0.08, c=0.01\n"
     ]
    },
    {
     "name": "stderr",
     "output_type": "stream",
     "text": [
      "INFO:lda:n_documents: 9689\n",
      "INFO:lda:vocab_size: 19491\n",
      "INFO:lda:n_words: 616730\n",
      "INFO:lda:n_topics: 22\n",
      "INFO:lda:n_iter: 2000\n",
      "WARNING:lda:all zero row in document-term matrix found\n",
      "INFO:lda:<1999> log likelihood: -4432508\n",
      "WARNING:lda:all zero column in document-term matrix found\n",
      "INFO:lda:<1999> log likelihood: -4441346\n",
      "WARNING:lda:all zero column in document-term matrix found\n"
     ]
    },
    {
     "name": "stdout",
     "output_type": "stream",
     "text": [
      "pos_food [('topic_0', 'topic_10'), 0.74497354497354495]\n",
      "neg_food [('topic_5', 'topic_20'), 0.81036368608148757]\n",
      "pos_wait [('topic_10', 'topic_21'), 0.7935676888556471]\n",
      "neg_wait ['topic_15', 0.82324324324324327]\n",
      "pos_price [('topic_10', 'topic_14'), 0.76822222222222214]\n",
      "neg_price [('topic_17', 'topic_20'), 0.86888888888888882]\n",
      "pos_serv [('topic_9', 'topic_10'), 0.71147277476391402]\n",
      "neg_serv [('topic_2', 'topic_15'), 0.87611540749553829]\n",
      "Done with n=22, b=0.1, c=0.008\n",
      "pos_food [('topic_0', 'topic_11'), 0.73523809523809525]\n",
      "pos_wait [('topic_11', 'topic_21'), 0.7890800299177263]\n",
      "neg_food ['topic_20', 0.87544435329505066]\n",
      "neg_wait [('topic_8', 'topic_15'), 0.82162162162162167]\n",
      "pos_price [('topic_11', 'topic_18'), 0.69599999999999995]\n",
      "neg_price [('topic_18', 'topic_20'), 0.84755555555555562]\n",
      "pos_serv [('topic_4', 'topic_11'), 0.77225236085995586]\n",
      "neg_serv [('topic_8', 'topic_15'), 0.87001784651992864]\n",
      "Done with n=22, b=0.1, c=0.02\n"
     ]
    },
    {
     "name": "stderr",
     "output_type": "stream",
     "text": [
      "INFO:lda:<0> log likelihood: -6261725\n",
      "INFO:lda:<1000> log likelihood: -4485020\n",
      "INFO:lda:<1000> log likelihood: -4498453\n",
      "INFO:lda:<1999> log likelihood: -4480158\n",
      "WARNING:lda:all zero column in document-term matrix found\n"
     ]
    },
    {
     "name": "stdout",
     "output_type": "stream",
     "text": [
      "pos_food [('topic_0', 'topic_10'), 0.75798941798941799]\n",
      "neg_food ['topic_20', 0.90347279190593377]\n",
      "pos_wait [('topic_18', 'topic_21'), 0.80628272251308908]\n",
      "neg_wait ['topic_3', 0.83864864864864863]\n",
      "pos_price [('topic_17', 'topic_18'), 0.81066666666666665]\n",
      "neg_price ['topic_20', 0.8793333333333333]\n",
      "pos_serv [('topic_4', 'topic_10'), 0.76200522403054061]\n",
      "neg_serv [('topic_3', 'topic_15'), 0.85693039857227837]\n",
      "Done with n=22, b=0.2, c=0.008\n"
     ]
    },
    {
     "name": "stderr",
     "output_type": "stream",
     "text": [
      "INFO:lda:n_documents: 9689\n",
      "INFO:lda:vocab_size: 19491\n",
      "INFO:lda:n_words: 616730\n",
      "INFO:lda:n_topics: 22\n",
      "INFO:lda:n_iter: 2000\n",
      "WARNING:lda:all zero row in document-term matrix found\n",
      "INFO:lda:<0> log likelihood: -6306627\n",
      "INFO:lda:<1999> log likelihood: -4501634\n",
      "WARNING:lda:all zero column in document-term matrix found\n"
     ]
    },
    {
     "name": "stdout",
     "output_type": "stream",
     "text": [
      "pos_food [('topic_0', 'topic_1'), 0.76582010582010585]\n",
      "neg_food ['topic_20', 0.8431774678698386]\n",
      "pos_wait [('topic_1', 'topic_21'), 0.77337322363500371]\n",
      "neg_wait [('topic_3', 'topic_8'), 0.85081081081081078]\n",
      "pos_price [('topic_1', 'topic_18'), 0.74888888888888894]\n",
      "neg_price [('topic_18', 'topic_20'), 0.86333333333333329]\n",
      "pos_serv [('topic_1', 'topic_11'), 0.76913803496081989]\n",
      "neg_serv ['topic_3', 0.87299226650803097]\n",
      "Done with n=22, b=0.2, c=0.02\n"
     ]
    },
    {
     "name": "stderr",
     "output_type": "stream",
     "text": [
      "INFO:lda:<1000> log likelihood: -4491068\n",
      "INFO:lda:<1999> log likelihood: -4485576\n",
      "WARNING:lda:all zero column in document-term matrix found\n"
     ]
    },
    {
     "name": "stdout",
     "output_type": "stream",
     "text": [
      "pos_food [('topic_0', 'topic_10'), 0.77322751322751326]\n",
      "neg_food ['topic_7', 0.86067815149029259]\n",
      "pos_wait [('topic_10', 'topic_12'), 0.76664173522812251]\n",
      "neg_wait ['topic_3', 0.84243243243243238]\n",
      "pos_price [('topic_12', 'topic_19'), 0.77355555555555555]\n",
      "neg_price ['topic_7', 0.85733333333333328]\n",
      "pos_serv [('topic_4', 'topic_10'), 0.78923046011653608]\n",
      "neg_serv [('topic_3', 'topic_15'), 0.85916121356335518]\n",
      "Done with n=22, b=0.2, c=0.01\n"
     ]
    }
   ],
   "source": [
    "p = Pool()\n",
    "top_param_scores = p.map(testParams, [(n, a, b) for n in n_topicss for a in alphas for b in etas])\n",
    "p.close()\n",
    "p.join()"
   ]
  },
  {
   "cell_type": "code",
   "execution_count": 19,
   "metadata": {
    "collapsed": false
   },
   "outputs": [
    {
     "data": {
      "text/plain": [
       "[('n_topics: 18, alpha: 0.08, eta: 0.008',\n",
       "  [('pos_food', [('topic_3', 'topic_16'), 0.73724867724867715]),\n",
       "   ('neg_food', [('topic_2', 'topic_5'), 0.84276729559748442]),\n",
       "   ('pos_wait', [('topic_3', 'topic_7'), 0.79842931937172767]),\n",
       "   ('neg_wait', ['topic_10', 0.80972972972972979]),\n",
       "   ('pos_price', [('topic_3', 'topic_12'), 0.7082222222222222]),\n",
       "   ('neg_price', [('topic_5', 'topic_6'), 0.87688888888888883]),\n",
       "   ('pos_serv', [('topic_0', 'topic_3'), 0.73447860156720912]),\n",
       "   ('neg_serv', [('topic_5', 'topic_10'), 0.85707911957168359])]),\n",
       " ('n_topics: 18, alpha: 0.08, eta: 0.01',\n",
       "  [('pos_food', [('topic_1', 'topic_15'), 0.70761904761904759]),\n",
       "   ('neg_food', [('topic_7', 'topic_11'), 0.76278370248837846]),\n",
       "   ('pos_wait', [('topic_3', 'topic_14'), 0.76963350785340312]),\n",
       "   ('neg_wait', [('topic_5', 'topic_10'), 0.81918918918918915]),\n",
       "   ('pos_price', [('topic_3', 'topic_12'), 0.72933333333333328]),\n",
       "   ('neg_price', [('topic_6', 'topic_7'), 0.86022222222222222]),\n",
       "   ('pos_serv', [('topic_3', 'topic_14'), 0.74372111713883871]),\n",
       "   ('neg_serv', [('topic_5', 'topic_10'), 0.8761154074955384])]),\n",
       " ('n_topics: 18, alpha: 0.08, eta: 0.02',\n",
       "  [('pos_food', [('topic_0', 'topic_17'), 0.70931216931216934]),\n",
       "   ('neg_food', ['topic_6', 0.83059885151763735]),\n",
       "   ('pos_wait', [('topic_4', 'topic_17'), 0.79693343305908748]),\n",
       "   ('neg_wait', ['topic_10', 0.81621621621621621]),\n",
       "   ('pos_price', [('topic_13', 'topic_17'), 0.78800000000000003]),\n",
       "   ('neg_price', [('topic_6', 'topic_16'), 0.85199999999999998]),\n",
       "   ('pos_serv', [('topic_5', 'topic_14'), 0.740506329113924]),\n",
       "   ('neg_serv', ['topic_10', 0.86481261154074962])]),\n",
       " ('n_topics: 18, alpha: 0.1, eta: 0.008',\n",
       "  [('pos_food', [('topic_8', 'topic_17'), 0.74888888888888894]),\n",
       "   ('neg_food', [('topic_2', 'topic_6'), 0.81473885698660098]),\n",
       "   ('pos_wait', [('topic_8', 'topic_16'), 0.82722513089005234]),\n",
       "   ('neg_wait', ['topic_5', 0.83405405405405408]),\n",
       "   ('pos_price', [('topic_8', 'topic_12'), 0.77711111111111109]),\n",
       "   ('neg_price', [('topic_2', 'topic_6'), 0.82933333333333337]),\n",
       "   ('pos_serv', [('topic_8', 'topic_15'), 0.72654209363070121]),\n",
       "   ('neg_serv', [('topic_5', 'topic_10'), 0.85187388459250446])]),\n",
       " ('n_topics: 18, alpha: 0.1, eta: 0.01',\n",
       "  [('pos_food', [('topic_0', 'topic_8'), 0.70126984126984127]),\n",
       "   ('neg_food', ['topic_6', 0.83675143560295318]),\n",
       "   ('pos_wait', [('topic_4', 'topic_8'), 0.81413612565445026]),\n",
       "   ('neg_wait', ['topic_5', 0.81054054054054059]),\n",
       "   ('pos_price', [('topic_8', 'topic_14'), 0.76777777777777789]),\n",
       "   ('neg_price', [('topic_6', 'topic_7'), 0.85022222222222221]),\n",
       "   ('pos_serv', [('topic_8', 'topic_15'), 0.73367490456098061]),\n",
       "   ('neg_serv', [('topic_5', 'topic_6'), 0.86377156454491366])]),\n",
       " ('n_topics: 18, alpha: 0.1, eta: 0.02',\n",
       "  [('pos_food', [('topic_8', 'topic_16'), 0.75312169312169308]),\n",
       "   ('neg_food', [('topic_6', 'topic_16'), 0.85165436149849605]),\n",
       "   ('pos_wait', [('topic_4', 'topic_9'), 0.77000747943156322]),\n",
       "   ('neg_wait', ['topic_5', 0.83378378378378371]),\n",
       "   ('pos_price', [('topic_13', 'topic_17'), 0.79444444444444451]),\n",
       "   ('neg_price', [('topic_3', 'topic_6'), 0.8368888888888889]),\n",
       "   ('pos_serv', [('topic_8', 'topic_9'), 0.76120152702431176]),\n",
       "   ('neg_serv', [('topic_5', 'topic_10'), 0.85098155859607372])]),\n",
       " ('n_topics: 18, alpha: 0.2, eta: 0.008',\n",
       "  [('pos_food', [('topic_4', 'topic_8'), 0.74878306878306888]),\n",
       "   ('neg_food', ['topic_6', 0.84960350013672403]),\n",
       "   ('pos_wait', [('topic_15', 'topic_17'), 0.75130890052356025]),\n",
       "   ('neg_wait', ['topic_5', 0.84432432432432436]),\n",
       "   ('pos_price', [('topic_13', 'topic_14'), 0.80488888888888888]),\n",
       "   ('neg_price', ['topic_6', 0.84755555555555551]),\n",
       "   ('pos_serv', ['topic_8', 0.78300180831826405]),\n",
       "   ('neg_serv', ['topic_5', 0.85916121356335518])]),\n",
       " ('n_topics: 18, alpha: 0.2, eta: 0.01',\n",
       "  [('pos_food', [('topic_0', 'topic_3'), 0.7124867724867725]),\n",
       "   ('neg_food', [('topic_6', 'topic_16'), 0.85233798195242005]),\n",
       "   ('pos_wait', [('topic_4', 'topic_7'), 0.72961854899027667]),\n",
       "   ('neg_wait', ['topic_5', 0.80891891891891898]),\n",
       "   ('pos_price', [('topic_7', 'topic_13'), 0.80222222222222228]),\n",
       "   ('neg_price', [('topic_2', 'topic_6'), 0.83488888888888879]),\n",
       "   ('pos_serv', ['topic_3', 0.74984930681133222]),\n",
       "   ('neg_serv', [('topic_5', 'topic_9'), 0.85648423557406295])]),\n",
       " ('n_topics: 18, alpha: 0.2, eta: 0.02',\n",
       "  [('pos_food', [('topic_1', 'topic_3'), 0.73195767195767203]),\n",
       "   ('neg_food', [('topic_5', 'topic_16'), 0.8192507519824993]),\n",
       "   ('pos_wait', [('topic_3', 'topic_17'), 0.75130890052356025]),\n",
       "   ('neg_wait', ['topic_10', 0.82162162162162156]),\n",
       "   ('pos_price', [('topic_12', 'topic_15'), 0.81066666666666665]),\n",
       "   ('neg_price', [('topic_5', 'topic_15'), 0.81933333333333325]),\n",
       "   ('pos_serv', [('topic_0', 'topic_3'), 0.76662648181635529]),\n",
       "   ('neg_serv', [('topic_5', 'topic_10'), 0.87834622248661509])]),\n",
       " ('n_topics: 20, alpha: 0.08, eta: 0.008',\n",
       "  [('pos_food', [('topic_1', 'topic_19'), 0.74730158730158724]),\n",
       "   ('neg_food', ['topic_18', 0.84837298331966093]),\n",
       "   ('pos_wait', [('topic_0', 'topic_19'), 0.7849663425579656]),\n",
       "   ('neg_wait', ['topic_15', 0.8424324324324326]),\n",
       "   ('pos_price', [('topic_12', 'topic_19'), 0.78200000000000003]),\n",
       "   ('neg_price', ['topic_18', 0.88955555555555543]),\n",
       "   ('pos_serv', [('topic_3', 'topic_19'), 0.73578460920233069]),\n",
       "   ('neg_serv', [('topic_10', 'topic_15'), 0.86258179654967282])]),\n",
       " ('n_topics: 20, alpha: 0.08, eta: 0.01',\n",
       "  [('pos_food', [('topic_8', 'topic_15'), 0.74285714285714288]),\n",
       "   ('neg_food', ['topic_14', 0.83743505605687718]),\n",
       "   ('pos_wait', [('topic_9', 'topic_15'), 0.81039640987284967]),\n",
       "   ('neg_wait', [('topic_10', 'topic_16'), 0.84405405405405398]),\n",
       "   ('pos_price', [('topic_12', 'topic_15'), 0.74711111111111117]),\n",
       "   ('neg_price', [('topic_14', 'topic_18'), 0.85799999999999998]),\n",
       "   ('pos_serv', [('topic_3', 'topic_15'), 0.73467952581876639]),\n",
       "   ('neg_serv', ['topic_10', 0.87224866151100544])]),\n",
       " ('n_topics: 20, alpha: 0.08, eta: 0.02',\n",
       "  [('pos_food', [('topic_17', 'topic_19'), 0.72074074074074079]),\n",
       "   ('neg_food', ['topic_13', 0.87886245556467046]),\n",
       "   ('pos_wait', [('topic_0', 'topic_19'), 0.79992520568436798]),\n",
       "   ('neg_wait', [('topic_6', 'topic_15'), 0.81594594594594583]),\n",
       "   ('pos_price', [('topic_4', 'topic_19'), 0.7771111111111112]),\n",
       "   ('neg_price', ['topic_13', 0.86555555555555563]),\n",
       "   ('pos_serv', [('topic_14', 'topic_19'), 0.72222222222222232]),\n",
       "   ('neg_serv', [('topic_6', 'topic_15'), 0.86302795954788813])]),\n",
       " ('n_topics: 20, alpha: 0.1, eta: 0.008',\n",
       "  [('pos_food', [('topic_2', 'topic_14'), 0.74211640211640217]),\n",
       "   ('neg_food', ['topic_7', 0.85329505058791355]),\n",
       "   ('pos_wait', [('topic_6', 'topic_14'), 0.7894540014958864]),\n",
       "   ('neg_wait', ['topic_15', 0.8464864864864865]),\n",
       "   ('pos_price', [('topic_13', 'topic_14'), 0.72111111111111115]),\n",
       "   ('neg_price', [('topic_7', 'topic_13'), 0.85888888888888892]),\n",
       "   ('pos_serv', [('topic_3', 'topic_14'), 0.74914607193088212]),\n",
       "   ('neg_serv', ['topic_15', 0.87418203450327181])]),\n",
       " ('n_topics: 20, alpha: 0.1, eta: 0.01',\n",
       "  [('pos_food', [('topic_5', 'topic_14'), 0.72359788359788357]),\n",
       "   ('neg_food', ['topic_13', 0.87284659557013944]),\n",
       "   ('pos_wait', [('topic_0', 'topic_19'), 0.77449513836948392]),\n",
       "   ('neg_wait', ['topic_12', 0.8472972972972973]),\n",
       "   ('pos_price', [('topic_15', 'topic_19'), 0.7877777777777778]),\n",
       "   ('neg_price', ['topic_13', 0.89266666666666661]),\n",
       "   ('pos_serv', [('topic_14', 'topic_17'), 0.75868997387984738]),\n",
       "   ('neg_serv', [('topic_10', 'topic_12'), 0.86377156454491377])]),\n",
       " ('n_topics: 20, alpha: 0.1, eta: 0.02',\n",
       "  [('pos_food', [('topic_5', 'topic_8'), 0.77089947089947086]),\n",
       "   ('neg_food', ['topic_6', 0.85985780694558378]),\n",
       "   ('pos_wait', [('topic_0', 'topic_11'), 0.77935676888556471]),\n",
       "   ('neg_wait', ['topic_10', 0.82702702702702702]),\n",
       "   ('pos_price', [('topic_13', 'topic_19'), 0.75111111111111106]),\n",
       "   ('neg_price', [('topic_6', 'topic_14'), 0.83355555555555549]),\n",
       "   ('pos_serv', [('topic_8', 'topic_17'), 0.75426964034558974]),\n",
       "   ('neg_serv', ['topic_10', 0.87447947650208213])]),\n",
       " ('n_topics: 20, alpha: 0.2, eta: 0.008',\n",
       "  [('pos_food', [('topic_8', 'topic_16'), 0.76582010582010585]),\n",
       "   ('neg_food', ['topic_7', 0.86614711512168452]),\n",
       "   ('pos_wait', [('topic_0', 'topic_8'), 0.81114435302916976]),\n",
       "   ('neg_wait', ['topic_15', 0.8532432432432433]),\n",
       "   ('pos_price', [('topic_8', 'topic_13'), 0.71711111111111114]),\n",
       "   ('neg_price', [('topic_7', 'topic_13'), 0.85822222222222222]),\n",
       "   ('pos_serv', [('topic_8', 'topic_11'), 0.74181233674904568]),\n",
       "   ('neg_serv', [('topic_5', 'topic_15'), 0.86332540154669835])]),\n",
       " ('n_topics: 20, alpha: 0.2, eta: 0.01',\n",
       "  [('pos_food', [('topic_1', 'topic_16'), 0.77449735449735446]),\n",
       "   ('neg_food', ['topic_5', 0.84905660377358494]),\n",
       "   ('pos_wait', [('topic_12', 'topic_16'), 0.78534031413612571]),\n",
       "   ('neg_wait', ['topic_6', 0.81918918918918915]),\n",
       "   ('pos_price', ['topic_18', 0.7546666666666666]),\n",
       "   ('neg_price', [('topic_5', 'topic_18'), 0.82911111111111113]),\n",
       "   ('pos_serv', [('topic_0', 'topic_16'), 0.75426964034558974]),\n",
       "   ('neg_serv', [('topic_6', 'topic_15'), 0.83938132064247473])]),\n",
       " ('n_topics: 20, alpha: 0.2, eta: 0.02',\n",
       "  [('pos_food', [('topic_5', 'topic_11'), 0.76582010582010573]),\n",
       "   ('neg_food', ['topic_4', 0.83866557287394028]),\n",
       "   ('pos_wait', [('topic_0', 'topic_11'), 0.76626776364996263]),\n",
       "   ('neg_wait', [('topic_10', 'topic_15'), 0.81135135135135128]),\n",
       "   ('pos_price', [('topic_14', 'topic_19'), 0.77244444444444438]),\n",
       "   ('neg_price', ['topic_4', 0.82511111111111113]),\n",
       "   ('pos_serv', [('topic_11', 'topic_17'), 0.73879847297568824]),\n",
       "   ('neg_serv', [('topic_10', 'topic_15'), 0.8576740035693039])]),\n",
       " ('n_topics: 22, alpha: 0.08, eta: 0.008',\n",
       "  [('pos_food', [('topic_1', 'topic_21'), 0.75301587301587314]),\n",
       "   ('neg_food', ['topic_20', 0.85643970467596398]),\n",
       "   ('pos_wait', [('topic_0', 'topic_21'), 0.83171278982797303]),\n",
       "   ('neg_wait', [('topic_2', 'topic_15'), 0.81837837837837846]),\n",
       "   ('pos_price', [('topic_18', 'topic_21'), 0.76177777777777778]),\n",
       "   ('neg_price', [('topic_18', 'topic_20'), 0.84555555555555562]),\n",
       "   ('pos_serv', ['topic_21', 0.72845087402049435]),\n",
       "   ('neg_serv', [('topic_2', 'topic_15'), 0.8596073765615706])]),\n",
       " ('n_topics: 22, alpha: 0.08, eta: 0.01',\n",
       "  [('pos_food', [('topic_0', 'topic_9'), 0.75164021164021166]),\n",
       "   ('neg_food', ['topic_8', 0.8632759092152037]),\n",
       "   ('pos_wait', [('topic_10', 'topic_12'), 0.78982797307404629]),\n",
       "   ('neg_wait', [('topic_5', 'topic_15'), 0.81837837837837835]),\n",
       "   ('pos_price', [('topic_6', 'topic_10'), 0.81311111111111112]),\n",
       "   ('neg_price', ['topic_8', 0.86066666666666669]),\n",
       "   ('pos_serv', [('topic_4', 'topic_9'), 0.73699015471167373]),\n",
       "   ('neg_serv', [('topic_5', 'topic_15'), 0.87581796549672819])]),\n",
       " ('n_topics: 22, alpha: 0.08, eta: 0.02',\n",
       "  [('pos_food', [('topic_0', 'topic_10'), 0.72507936507936521]),\n",
       "   ('neg_food', ['topic_20', 0.84905660377358494]),\n",
       "   ('pos_wait', [('topic_3', 'topic_10'), 0.78833208676140609]),\n",
       "   ('neg_wait', ['topic_15', 0.83918918918918917]),\n",
       "   ('pos_price', [('topic_17', 'topic_18'), 0.68822222222222229]),\n",
       "   ('neg_price', [('topic_17', 'topic_20'), 0.85599999999999987]),\n",
       "   ('pos_serv', [('topic_10', 'topic_18'), 0.74954792043399632]),\n",
       "   ('neg_serv', ['topic_15', 0.86421772754312909])]),\n",
       " ('n_topics: 22, alpha: 0.1, eta: 0.008',\n",
       "  [('pos_food', [('topic_0', 'topic_10'), 0.74497354497354495]),\n",
       "   ('neg_food', [('topic_5', 'topic_20'), 0.81036368608148757]),\n",
       "   ('pos_wait', [('topic_10', 'topic_21'), 0.7935676888556471]),\n",
       "   ('neg_wait', ['topic_15', 0.82324324324324327]),\n",
       "   ('pos_price', [('topic_10', 'topic_14'), 0.76822222222222214]),\n",
       "   ('neg_price', [('topic_17', 'topic_20'), 0.86888888888888882]),\n",
       "   ('pos_serv', [('topic_9', 'topic_10'), 0.71147277476391402]),\n",
       "   ('neg_serv', [('topic_2', 'topic_15'), 0.87611540749553829])]),\n",
       " ('n_topics: 22, alpha: 0.1, eta: 0.01',\n",
       "  [('pos_food', [('topic_0', 'topic_21'), 0.74899470899470899]),\n",
       "   ('neg_food', ['topic_20', 0.84837298331966093]),\n",
       "   ('pos_wait', [('topic_5', 'topic_12'), 0.76514584891548254]),\n",
       "   ('neg_wait', ['topic_15', 0.81270270270270273]),\n",
       "   ('pos_price', [('topic_12', 'topic_21'), 0.71777777777777785]),\n",
       "   ('neg_price', [('topic_3', 'topic_20'), 0.83933333333333338]),\n",
       "   ('pos_serv', [('topic_11', 'topic_21'), 0.74241510950371703]),\n",
       "   ('neg_serv', ['topic_15', 0.86867935752528258])]),\n",
       " ('n_topics: 22, alpha: 0.1, eta: 0.02',\n",
       "  [('pos_food', [('topic_0', 'topic_11'), 0.73523809523809525]),\n",
       "   ('neg_food', ['topic_20', 0.87544435329505066]),\n",
       "   ('pos_wait', [('topic_11', 'topic_21'), 0.7890800299177263]),\n",
       "   ('neg_wait', [('topic_8', 'topic_15'), 0.82162162162162167]),\n",
       "   ('pos_price', [('topic_11', 'topic_18'), 0.69599999999999995]),\n",
       "   ('neg_price', [('topic_18', 'topic_20'), 0.84755555555555562]),\n",
       "   ('pos_serv', [('topic_4', 'topic_11'), 0.77225236085995586]),\n",
       "   ('neg_serv', [('topic_8', 'topic_15'), 0.87001784651992864])]),\n",
       " ('n_topics: 22, alpha: 0.2, eta: 0.008',\n",
       "  [('pos_food', [('topic_0', 'topic_10'), 0.75798941798941799]),\n",
       "   ('neg_food', ['topic_20', 0.90347279190593377]),\n",
       "   ('pos_wait', [('topic_18', 'topic_21'), 0.80628272251308908]),\n",
       "   ('neg_wait', ['topic_3', 0.83864864864864863]),\n",
       "   ('pos_price', [('topic_17', 'topic_18'), 0.81066666666666665]),\n",
       "   ('neg_price', ['topic_20', 0.8793333333333333]),\n",
       "   ('pos_serv', [('topic_4', 'topic_10'), 0.76200522403054061]),\n",
       "   ('neg_serv', [('topic_3', 'topic_15'), 0.85693039857227837])]),\n",
       " ('n_topics: 22, alpha: 0.2, eta: 0.01',\n",
       "  [('pos_food', [('topic_0', 'topic_10'), 0.77322751322751326]),\n",
       "   ('neg_food', ['topic_7', 0.86067815149029259]),\n",
       "   ('pos_wait', [('topic_10', 'topic_12'), 0.76664173522812251]),\n",
       "   ('neg_wait', ['topic_3', 0.84243243243243238]),\n",
       "   ('pos_price', [('topic_12', 'topic_19'), 0.77355555555555555]),\n",
       "   ('neg_price', ['topic_7', 0.85733333333333328]),\n",
       "   ('pos_serv', [('topic_4', 'topic_10'), 0.78923046011653608]),\n",
       "   ('neg_serv', [('topic_3', 'topic_15'), 0.85916121356335518])]),\n",
       " ('n_topics: 22, alpha: 0.2, eta: 0.02',\n",
       "  [('pos_food', [('topic_0', 'topic_1'), 0.76582010582010585]),\n",
       "   ('neg_food', ['topic_20', 0.8431774678698386]),\n",
       "   ('pos_wait', [('topic_1', 'topic_21'), 0.77337322363500371]),\n",
       "   ('neg_wait', [('topic_3', 'topic_8'), 0.85081081081081078]),\n",
       "   ('pos_price', [('topic_1', 'topic_18'), 0.74888888888888894]),\n",
       "   ('neg_price', [('topic_18', 'topic_20'), 0.86333333333333329]),\n",
       "   ('pos_serv', [('topic_1', 'topic_11'), 0.76913803496081989]),\n",
       "   ('neg_serv', ['topic_3', 0.87299226650803097])])]"
      ]
     },
     "execution_count": 19,
     "metadata": {},
     "output_type": "execute_result"
    }
   ],
   "source": [
    "top_param_scores"
   ]
  },
  {
   "cell_type": "code",
   "execution_count": 20,
   "metadata": {
    "collapsed": false
   },
   "outputs": [
    {
     "name": "stdout",
     "output_type": "stream",
     "text": [
      "n_topics: 18, alpha: 0.08, eta: 0.008: mean: 0.796, hmean: 0.791, min-max: 0.708-0.877\n",
      "n_topics: 18, alpha: 0.08, eta: 0.01: mean: 0.784, hmean: 0.779, min-max: 0.708-0.876\n",
      "n_topics: 18, alpha: 0.08, eta: 0.02: mean: 0.800, hmean: 0.797, min-max: 0.709-0.865\n",
      "n_topics: 18, alpha: 0.1, eta: 0.008: mean: 0.801, hmean: 0.799, min-max: 0.727-0.852\n",
      "n_topics: 18, alpha: 0.1, eta: 0.01: mean: 0.797, hmean: 0.793, min-max: 0.701-0.864\n",
      "n_topics: 18, alpha: 0.1, eta: 0.02: mean: 0.807, hmean: 0.805, min-max: 0.753-0.852\n",
      "n_topics: 18, alpha: 0.2, eta: 0.008: mean: 0.811, hmean: 0.809, min-max: 0.749-0.859\n",
      "n_topics: 18, alpha: 0.2, eta: 0.01: mean: 0.793, hmean: 0.790, min-max: 0.712-0.856\n",
      "n_topics: 18, alpha: 0.2, eta: 0.02: mean: 0.800, hmean: 0.797, min-max: 0.732-0.878\n",
      "n_topics: 20, alpha: 0.08, eta: 0.008: mean: 0.812, hmean: 0.808, min-max: 0.736-0.890\n",
      "n_topics: 20, alpha: 0.08, eta: 0.01: mean: 0.806, hmean: 0.802, min-max: 0.735-0.872\n",
      "n_topics: 20, alpha: 0.08, eta: 0.02: mean: 0.805, hmean: 0.801, min-max: 0.721-0.879\n",
      "n_topics: 20, alpha: 0.1, eta: 0.008: mean: 0.804, hmean: 0.800, min-max: 0.721-0.874\n",
      "n_topics: 20, alpha: 0.1, eta: 0.01: mean: 0.815, hmean: 0.811, min-max: 0.724-0.893\n",
      "n_topics: 20, alpha: 0.1, eta: 0.02: mean: 0.806, hmean: 0.804, min-max: 0.751-0.874\n",
      "n_topics: 20, alpha: 0.2, eta: 0.008: mean: 0.810, hmean: 0.806, min-max: 0.717-0.866\n",
      "n_topics: 20, alpha: 0.2, eta: 0.01: mean: 0.801, hmean: 0.799, min-max: 0.754-0.849\n",
      "n_topics: 20, alpha: 0.2, eta: 0.02: mean: 0.797, hmean: 0.795, min-max: 0.739-0.858\n",
      "n_topics: 22, alpha: 0.08, eta: 0.008: mean: 0.807, hmean: 0.804, min-max: 0.728-0.860\n",
      "n_topics: 22, alpha: 0.08, eta: 0.01: mean: 0.814, hmean: 0.811, min-max: 0.737-0.876\n",
      "n_topics: 22, alpha: 0.08, eta: 0.02: mean: 0.795, hmean: 0.790, min-max: 0.688-0.864\n",
      "n_topics: 22, alpha: 0.1, eta: 0.008: mean: 0.800, hmean: 0.796, min-max: 0.711-0.876\n",
      "n_topics: 22, alpha: 0.1, eta: 0.01: mean: 0.793, hmean: 0.789, min-max: 0.718-0.869\n",
      "n_topics: 22, alpha: 0.1, eta: 0.02: mean: 0.801, hmean: 0.796, min-max: 0.696-0.875\n",
      "n_topics: 22, alpha: 0.2, eta: 0.008: mean: 0.827, hmean: 0.824, min-max: 0.758-0.903\n",
      "n_topics: 22, alpha: 0.2, eta: 0.01: mean: 0.815, hmean: 0.813, min-max: 0.767-0.861\n",
      "n_topics: 22, alpha: 0.2, eta: 0.02: mean: 0.811, hmean: 0.808, min-max: 0.749-0.873\n"
     ]
    }
   ],
   "source": [
    "for parameters, values in top_param_scores:\n",
    "    vals = [value[1][1] for value in values]\n",
    "    print \"{}: mean: {:.3f}, hmean: {:.3f}, min-max: {:.3f}-{:.3f}\".format(\n",
    "        # ignore scores on ambiance and cleanliness - they were too infrequent\n",
    "        parameters, np.mean(vals[:10]), hmean(vals[:10]), min(vals[:10]), max(vals[:10]))"
   ]
  },
  {
   "cell_type": "code",
   "execution_count": 22,
   "metadata": {
    "collapsed": false
   },
   "outputs": [
    {
     "name": "stdout",
     "output_type": "stream",
     "text": [
      "n_topics: 18, alpha: 0.08, eta: 0.008: mean: 0.847, hmean: 0.846, min-max: 0.810-0.877\n",
      "n_topics: 18, alpha: 0.08, eta: 0.01: mean: 0.830, hmean: 0.827, min-max: 0.763-0.876\n",
      "n_topics: 18, alpha: 0.08, eta: 0.02: mean: 0.841, hmean: 0.840, min-max: 0.816-0.865\n",
      "n_topics: 18, alpha: 0.1, eta: 0.008: mean: 0.833, hmean: 0.832, min-max: 0.815-0.852\n",
      "n_topics: 18, alpha: 0.1, eta: 0.01: mean: 0.840, hmean: 0.840, min-max: 0.811-0.864\n",
      "n_topics: 18, alpha: 0.1, eta: 0.02: mean: 0.843, hmean: 0.843, min-max: 0.834-0.852\n",
      "n_topics: 18, alpha: 0.2, eta: 0.008: mean: 0.850, hmean: 0.850, min-max: 0.844-0.859\n",
      "n_topics: 18, alpha: 0.2, eta: 0.01: mean: 0.838, hmean: 0.838, min-max: 0.809-0.856\n",
      "n_topics: 18, alpha: 0.2, eta: 0.02: mean: 0.835, hmean: 0.834, min-max: 0.819-0.878\n",
      "n_topics: 20, alpha: 0.08, eta: 0.008: mean: 0.861, hmean: 0.860, min-max: 0.842-0.890\n",
      "n_topics: 20, alpha: 0.08, eta: 0.01: mean: 0.853, hmean: 0.853, min-max: 0.837-0.872\n",
      "n_topics: 20, alpha: 0.08, eta: 0.02: mean: 0.856, hmean: 0.855, min-max: 0.816-0.879\n",
      "n_topics: 20, alpha: 0.1, eta: 0.008: mean: 0.858, hmean: 0.858, min-max: 0.846-0.874\n",
      "n_topics: 20, alpha: 0.1, eta: 0.01: mean: 0.869, hmean: 0.869, min-max: 0.847-0.893\n",
      "n_topics: 20, alpha: 0.1, eta: 0.02: mean: 0.849, hmean: 0.848, min-max: 0.827-0.874\n",
      "n_topics: 20, alpha: 0.2, eta: 0.008: mean: 0.860, hmean: 0.860, min-max: 0.853-0.866\n",
      "n_topics: 20, alpha: 0.2, eta: 0.01: mean: 0.834, hmean: 0.834, min-max: 0.819-0.849\n",
      "n_topics: 20, alpha: 0.2, eta: 0.02: mean: 0.833, hmean: 0.833, min-max: 0.811-0.858\n",
      "n_topics: 22, alpha: 0.08, eta: 0.008: mean: 0.845, hmean: 0.845, min-max: 0.818-0.860\n",
      "n_topics: 22, alpha: 0.08, eta: 0.01: mean: 0.855, hmean: 0.854, min-max: 0.818-0.876\n",
      "n_topics: 22, alpha: 0.08, eta: 0.02: mean: 0.852, hmean: 0.852, min-max: 0.839-0.864\n",
      "n_topics: 22, alpha: 0.1, eta: 0.008: mean: 0.845, hmean: 0.844, min-max: 0.810-0.876\n",
      "n_topics: 22, alpha: 0.1, eta: 0.01: mean: 0.842, hmean: 0.842, min-max: 0.813-0.869\n",
      "n_topics: 22, alpha: 0.1, eta: 0.02: mean: 0.854, hmean: 0.853, min-max: 0.822-0.875\n",
      "n_topics: 22, alpha: 0.2, eta: 0.008: mean: 0.870, hmean: 0.869, min-max: 0.839-0.903\n",
      "n_topics: 22, alpha: 0.2, eta: 0.01: mean: 0.855, hmean: 0.855, min-max: 0.842-0.861\n",
      "n_topics: 22, alpha: 0.2, eta: 0.02: mean: 0.858, hmean: 0.857, min-max: 0.843-0.873\n"
     ]
    }
   ],
   "source": [
    "# compare summary stats of parameters - negative only\n",
    "for parameters, values in top_param_scores:\n",
    "    vals = []\n",
    "    for value in values:\n",
    "        if value[0].split('_')[0] == 'neg':\n",
    "            vals += [value[1][1]]\n",
    "    print \"{}: mean: {:.3f}, hmean: {:.3f}, min-max: {:.3f}-{:.3f}\".format(\n",
    "        parameters, np.mean(vals), hmean(vals), min(vals), max(vals))"
   ]
  },
  {
   "cell_type": "markdown",
   "metadata": {},
   "source": [
    "The baseline model continues to be the best model."
   ]
  },
  {
   "cell_type": "markdown",
   "metadata": {},
   "source": [
    "## Best LDA:\n",
    "- Number of topics: 20\n",
    "- Alpha: 0.1\n",
    "- Beta: 0.01"
   ]
  },
  {
   "cell_type": "code",
   "execution_count": null,
   "metadata": {
    "collapsed": true
   },
   "outputs": [],
   "source": []
  }
 ],
 "metadata": {
  "anaconda-cloud": {},
  "kernelspec": {
   "display_name": "Python [conda env:py27]",
   "language": "python",
   "name": "conda-env-py27-py"
  },
  "language_info": {
   "codemirror_mode": {
    "name": "ipython",
    "version": 2
   },
   "file_extension": ".py",
   "mimetype": "text/x-python",
   "name": "python",
   "nbconvert_exporter": "python",
   "pygments_lexer": "ipython2",
   "version": "2.7.12"
  }
 },
 "nbformat": 4,
 "nbformat_minor": 1
}
